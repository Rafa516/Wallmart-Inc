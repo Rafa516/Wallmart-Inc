{
  "nbformat": 4,
  "nbformat_minor": 0,
  "metadata": {
    "colab": {
      "provenance": [],
      "collapsed_sections": [],
      "toc_visible": true,
      "authorship_tag": "ABX9TyPz6aVyDmB4OClcClmeCovy",
      "include_colab_link": true
    },
    "kernelspec": {
      "name": "python3",
      "display_name": "Python 3"
    },
    "language_info": {
      "name": "python"
    }
  },
  "cells": [
    {
      "cell_type": "markdown",
      "metadata": {
        "id": "view-in-github",
        "colab_type": "text"
      },
      "source": [
        "<a href=\"https://colab.research.google.com/github/Rafa516/Wallmart-Inc/blob/master/MiniProjeto_Wallmart.ipynb\" target=\"_parent\"><img src=\"https://colab.research.google.com/assets/colab-badge.svg\" alt=\"Open In Colab\"/></a>"
      ]
    },
    {
      "cell_type": "markdown",
      "source": [
        "#Introdução\n",
        "> Walmart, Inc., é uma multinacional estadunidense de lojas de departamento.  \n",
        "A companhia foi fundada por Sam Walton em 1962, incorporada em 31 de outubro de 1969 e feita capital aberto na New York Stock Exchange, em 1972.   \n",
        "No ano de 2021, obteve um um lucro de $13.51 Bilhões.  \n",
        "Sendo uma das principais lojas de varejo do mundo, os dados contemplam as vendas semanais de 45 lojas espalhadas pelos Estados Unidos.   \n",
        "O Walmart realiza vários eventos promocionais de descontos ao longo do ano. \n",
        "Essas remarcações precedem feriados importantes, os quatro maiores de todos, que são o Super Bowl, o Dia do Trabalho, o Dia de Ação de Graças e o Natal. \n",
        "As semanas que incluem esses feriados têm um peso maior.\n"
      ],
      "metadata": {
        "id": "nem61XamwG0N"
      }
    },
    {
      "cell_type": "markdown",
      "source": [
        "# 1.0 A questão do negócio\n",
        "A empresa Walmart deseja fazer um investimento em uma das lojas localizadas nos Estados Unidos a fim de expandir seu tamanho.  \n",
        "Foram avaliados os dados de 45 lojas, com as seguintes\n",
        "informações:  \n",
        ">● Semana de Venda;  \n",
        "● Venda Naquela Semana;  \n",
        "● Flag se é ou não semana com feriado (1 - Holiday Week 0 - Non-HolidayWeek);  \n",
        "● Temperatura do dia em °F;  \n",
        "● Preço do combustível na região da loja;  \n",
        "● Índice de preços ao consumidor e  \n",
        "● Taxa de desemprego.\n"
      ],
      "metadata": {
        "id": "HhMrLEaLxMkZ"
      }
    },
    {
      "cell_type": "markdown",
      "source": [
        "#2.0 Entendimento do negócio\n",
        "Através dos dados disponibilizados, foram analisados gráficos e DataFrames (Tabelas) para ser possível determinar:  \n",
        ">● As Lojas com maiores médias de Vendas Semanais;  \n",
        "● Preço médio de venda semanal por loja;  \n",
        "● A loja com maior venda acumulada (soma de vendas de todo o\n",
        "período) e em quantas semanas do ano ela ultrapassou a média do\n",
        "período;  \n",
        "● Vendas máximas, mínimas e médias de todas as lojas\n",
        "ao longo do tempo;  \n",
        "● Comparativo dos preços de combustível na região da loja;  \n",
        "● Comparativo de taxa de desemprego;  \n",
        "● Índice de temperatura: para avaliar em quais lojas a temperatura\n",
        "média tem a possibilidade de nevar;  \n",
        "● Médias por loja e visualização e ordenação decrescente pelas maiores médias de venda\n",
        "\n",
        "Com essa análise foi possível visualizar dentre as que mais vendem, o que elas têm em comum e principalmente se, dentre estes que mais vendem, tem algum que se destaca por ter índices diferentes."
      ],
      "metadata": {
        "id": "TX3rI8G40wO8"
      }
    },
    {
      "cell_type": "markdown",
      "source": [
        "# 3.0 Coleta de dados \n",
        "Através do conjunto de dados disponibilizados, foram analisados e feito levantamentos através de gráficos e tabelas geradas, a partir disso foi possível determinar:  \n",
        ">●\tAs Lojas com maiores médias de Vendas Semanais;  \n",
        "●\tAs Lojas com Maiores Vendas em Semanas de Feriados;  \n",
        "●\tPreço médio de venda semanal por loja;  \n",
        "●\tA loja com maior venda acumulada (soma de vendas de todo o período) e em quantas semanas do ano ela ultrapassou a média do período;  \n",
        "●\tData frame das vendas máximas, mínimas e médias de todas as lojas ao longo do tempo;   \n",
        "Comparativo dos preços de combustível na região da loja;  \n",
        "●\tComparativo de índice de Preços ao Consumidor (CPI);  \n",
        "●\tComparativo de taxa de desemprego;  \n",
        "●\tÍndice de temperatura: para avaliar em quais lojas a temperatura média tem a possibilidade de nevar;  \n",
        "●\tMédias por loja e visualização e ordenação decrescente pelas maiores médias de venda  \n",
        "***Neste contexto, foi possível tirar alguns insights e o principal deles, o de prever a loja que já está vendendo bem e há espaço para crescimento.***\n"
      ],
      "metadata": {
        "id": "2mO07gWc0347"
      }
    },
    {
      "cell_type": "markdown",
      "source": [
        "## 3.1 Descrição dos dados\n",
        "\n",
        "###Feriados\n",
        "> **Super Bowl**: 12-Feb-10, 11-Feb-11, 10-Feb-12    \n",
        "**Labour Day**: 10-Sep-10, 09-Sep-11, 07-Sep-12  \n",
        "**Thanksgiving**:26-Nov-10, 25-Nov-11, 23-Nov-1  \n",
        "**Christmas**:31-Dec-10, 30-Dec-11, 28-Dec-12\n",
        "\n",
        "###Variáveis\n",
        "> **Store**: Número da Loja  \n",
        "**Date**:Semana de Venda  \n",
        "**Weekly_Sales**:Venda Naquela Semana    \n",
        "**Holiday_Flag**:Flag se é ou não semana com feriado (1 - Holiday Week 0 - Non-Holiday Week)  \n",
        "**Temperature**:Temperatura do dia em °F  \n",
        "**Fuel_Price**:Preço do combustível na região da loja  \n",
        "**CPI**:Índice de preços ao consumidor  \n",
        "**Unemployment**:Taxa de desemprego\n",
        "\n",
        "\n",
        " \n",
        "\n",
        "\n",
        "\n",
        "\n",
        "\n",
        "\n",
        "\n",
        "\n",
        "\n",
        "\n",
        "\n",
        "\n",
        "\n",
        " \n",
        "\n",
        "\n",
        "\n",
        "\n",
        "\n"
      ],
      "metadata": {
        "id": "puJXn99r1OCd"
      }
    },
    {
      "cell_type": "markdown",
      "source": [
        "## 3.2 Importação das bibliotecas usadas"
      ],
      "metadata": {
        "id": "3H7EFDeTOyZc"
      }
    },
    {
      "cell_type": "code",
      "source": [
        "import pandas as pd\n",
        "pd.set_option(\"display.float_format\", lambda x: \"%.2f\" % x)\n",
        "import numpy as np\n",
        "import matplotlib.pyplot as plt\n",
        "import seaborn as sns\n",
        "import scipy.stats as stats"
      ],
      "metadata": {
        "id": "FM7K4nrCKrjW"
      },
      "execution_count": null,
      "outputs": []
    },
    {
      "cell_type": "markdown",
      "source": [
        "## 3.3 Tranformando o arquivo CSV em um dataframe para melhor vizualização das colunas"
      ],
      "metadata": {
        "id": "Kt5jFDScPFLp"
      }
    },
    {
      "cell_type": "code",
      "source": [
        "df = pd.read_csv('https://raw.githubusercontent.com/Rafa516/Wallmart-Inc/master/Walmart.csv', parse_dates=['Date'],decimal='.')\n",
        "df.head(200)"
      ],
      "metadata": {
        "colab": {
          "base_uri": "https://localhost:8080/",
          "height": 424
        },
        "id": "PEaIocunPHGV",
        "outputId": "0b13cb4a-422b-4625-c0e5-6043ec12034e"
      },
      "execution_count": null,
      "outputs": [
        {
          "output_type": "execute_result",
          "data": {
            "text/plain": [
              "     Store       Date  Weekly_Sales  Holiday_Flag  Temperature  Fuel_Price  \\\n",
              "0        1 2010-05-02    1643690.90             0        42.31        2.57   \n",
              "1        1 2010-12-02    1641957.44             1        38.51        2.55   \n",
              "2        1 2010-02-19    1611968.17             0        39.93        2.51   \n",
              "3        1 2010-02-26    1409727.59             0        46.63        2.56   \n",
              "4        1 2010-05-03    1554806.68             0        46.50        2.62   \n",
              "..     ...        ...           ...           ...          ...         ...   \n",
              "195      2 2011-04-02    1929346.23             0        38.25        2.99   \n",
              "196      2 2011-11-02    2168041.61             1        33.19        3.02   \n",
              "197      2 2011-02-18    2080884.82             0        57.83        3.04   \n",
              "198      2 2011-02-25    1833511.08             0        60.80        3.06   \n",
              "199      2 2011-04-03    1981607.78             0        57.77        3.29   \n",
              "\n",
              "       CPI  Unemployment  \n",
              "0   211.10          8.11  \n",
              "1   211.24          8.11  \n",
              "2   211.29          8.11  \n",
              "3   211.32          8.11  \n",
              "4   211.35          8.11  \n",
              "..     ...           ...  \n",
              "195 212.22          8.03  \n",
              "196 212.59          8.03  \n",
              "197 212.90          8.03  \n",
              "198 213.19          8.03  \n",
              "199 213.48          8.03  \n",
              "\n",
              "[200 rows x 8 columns]"
            ],
            "text/html": [
              "\n",
              "  <div id=\"df-0b92c0bf-abd1-460a-8098-abf808be0df3\">\n",
              "    <div class=\"colab-df-container\">\n",
              "      <div>\n",
              "<style scoped>\n",
              "    .dataframe tbody tr th:only-of-type {\n",
              "        vertical-align: middle;\n",
              "    }\n",
              "\n",
              "    .dataframe tbody tr th {\n",
              "        vertical-align: top;\n",
              "    }\n",
              "\n",
              "    .dataframe thead th {\n",
              "        text-align: right;\n",
              "    }\n",
              "</style>\n",
              "<table border=\"1\" class=\"dataframe\">\n",
              "  <thead>\n",
              "    <tr style=\"text-align: right;\">\n",
              "      <th></th>\n",
              "      <th>Store</th>\n",
              "      <th>Date</th>\n",
              "      <th>Weekly_Sales</th>\n",
              "      <th>Holiday_Flag</th>\n",
              "      <th>Temperature</th>\n",
              "      <th>Fuel_Price</th>\n",
              "      <th>CPI</th>\n",
              "      <th>Unemployment</th>\n",
              "    </tr>\n",
              "  </thead>\n",
              "  <tbody>\n",
              "    <tr>\n",
              "      <th>0</th>\n",
              "      <td>1</td>\n",
              "      <td>2010-05-02</td>\n",
              "      <td>1643690.90</td>\n",
              "      <td>0</td>\n",
              "      <td>42.31</td>\n",
              "      <td>2.57</td>\n",
              "      <td>211.10</td>\n",
              "      <td>8.11</td>\n",
              "    </tr>\n",
              "    <tr>\n",
              "      <th>1</th>\n",
              "      <td>1</td>\n",
              "      <td>2010-12-02</td>\n",
              "      <td>1641957.44</td>\n",
              "      <td>1</td>\n",
              "      <td>38.51</td>\n",
              "      <td>2.55</td>\n",
              "      <td>211.24</td>\n",
              "      <td>8.11</td>\n",
              "    </tr>\n",
              "    <tr>\n",
              "      <th>2</th>\n",
              "      <td>1</td>\n",
              "      <td>2010-02-19</td>\n",
              "      <td>1611968.17</td>\n",
              "      <td>0</td>\n",
              "      <td>39.93</td>\n",
              "      <td>2.51</td>\n",
              "      <td>211.29</td>\n",
              "      <td>8.11</td>\n",
              "    </tr>\n",
              "    <tr>\n",
              "      <th>3</th>\n",
              "      <td>1</td>\n",
              "      <td>2010-02-26</td>\n",
              "      <td>1409727.59</td>\n",
              "      <td>0</td>\n",
              "      <td>46.63</td>\n",
              "      <td>2.56</td>\n",
              "      <td>211.32</td>\n",
              "      <td>8.11</td>\n",
              "    </tr>\n",
              "    <tr>\n",
              "      <th>4</th>\n",
              "      <td>1</td>\n",
              "      <td>2010-05-03</td>\n",
              "      <td>1554806.68</td>\n",
              "      <td>0</td>\n",
              "      <td>46.50</td>\n",
              "      <td>2.62</td>\n",
              "      <td>211.35</td>\n",
              "      <td>8.11</td>\n",
              "    </tr>\n",
              "    <tr>\n",
              "      <th>...</th>\n",
              "      <td>...</td>\n",
              "      <td>...</td>\n",
              "      <td>...</td>\n",
              "      <td>...</td>\n",
              "      <td>...</td>\n",
              "      <td>...</td>\n",
              "      <td>...</td>\n",
              "      <td>...</td>\n",
              "    </tr>\n",
              "    <tr>\n",
              "      <th>195</th>\n",
              "      <td>2</td>\n",
              "      <td>2011-04-02</td>\n",
              "      <td>1929346.23</td>\n",
              "      <td>0</td>\n",
              "      <td>38.25</td>\n",
              "      <td>2.99</td>\n",
              "      <td>212.22</td>\n",
              "      <td>8.03</td>\n",
              "    </tr>\n",
              "    <tr>\n",
              "      <th>196</th>\n",
              "      <td>2</td>\n",
              "      <td>2011-11-02</td>\n",
              "      <td>2168041.61</td>\n",
              "      <td>1</td>\n",
              "      <td>33.19</td>\n",
              "      <td>3.02</td>\n",
              "      <td>212.59</td>\n",
              "      <td>8.03</td>\n",
              "    </tr>\n",
              "    <tr>\n",
              "      <th>197</th>\n",
              "      <td>2</td>\n",
              "      <td>2011-02-18</td>\n",
              "      <td>2080884.82</td>\n",
              "      <td>0</td>\n",
              "      <td>57.83</td>\n",
              "      <td>3.04</td>\n",
              "      <td>212.90</td>\n",
              "      <td>8.03</td>\n",
              "    </tr>\n",
              "    <tr>\n",
              "      <th>198</th>\n",
              "      <td>2</td>\n",
              "      <td>2011-02-25</td>\n",
              "      <td>1833511.08</td>\n",
              "      <td>0</td>\n",
              "      <td>60.80</td>\n",
              "      <td>3.06</td>\n",
              "      <td>213.19</td>\n",
              "      <td>8.03</td>\n",
              "    </tr>\n",
              "    <tr>\n",
              "      <th>199</th>\n",
              "      <td>2</td>\n",
              "      <td>2011-04-03</td>\n",
              "      <td>1981607.78</td>\n",
              "      <td>0</td>\n",
              "      <td>57.77</td>\n",
              "      <td>3.29</td>\n",
              "      <td>213.48</td>\n",
              "      <td>8.03</td>\n",
              "    </tr>\n",
              "  </tbody>\n",
              "</table>\n",
              "<p>200 rows × 8 columns</p>\n",
              "</div>\n",
              "      <button class=\"colab-df-convert\" onclick=\"convertToInteractive('df-0b92c0bf-abd1-460a-8098-abf808be0df3')\"\n",
              "              title=\"Convert this dataframe to an interactive table.\"\n",
              "              style=\"display:none;\">\n",
              "        \n",
              "  <svg xmlns=\"http://www.w3.org/2000/svg\" height=\"24px\"viewBox=\"0 0 24 24\"\n",
              "       width=\"24px\">\n",
              "    <path d=\"M0 0h24v24H0V0z\" fill=\"none\"/>\n",
              "    <path d=\"M18.56 5.44l.94 2.06.94-2.06 2.06-.94-2.06-.94-.94-2.06-.94 2.06-2.06.94zm-11 1L8.5 8.5l.94-2.06 2.06-.94-2.06-.94L8.5 2.5l-.94 2.06-2.06.94zm10 10l.94 2.06.94-2.06 2.06-.94-2.06-.94-.94-2.06-.94 2.06-2.06.94z\"/><path d=\"M17.41 7.96l-1.37-1.37c-.4-.4-.92-.59-1.43-.59-.52 0-1.04.2-1.43.59L10.3 9.45l-7.72 7.72c-.78.78-.78 2.05 0 2.83L4 21.41c.39.39.9.59 1.41.59.51 0 1.02-.2 1.41-.59l7.78-7.78 2.81-2.81c.8-.78.8-2.07 0-2.86zM5.41 20L4 18.59l7.72-7.72 1.47 1.35L5.41 20z\"/>\n",
              "  </svg>\n",
              "      </button>\n",
              "      \n",
              "  <style>\n",
              "    .colab-df-container {\n",
              "      display:flex;\n",
              "      flex-wrap:wrap;\n",
              "      gap: 12px;\n",
              "    }\n",
              "\n",
              "    .colab-df-convert {\n",
              "      background-color: #E8F0FE;\n",
              "      border: none;\n",
              "      border-radius: 50%;\n",
              "      cursor: pointer;\n",
              "      display: none;\n",
              "      fill: #1967D2;\n",
              "      height: 32px;\n",
              "      padding: 0 0 0 0;\n",
              "      width: 32px;\n",
              "    }\n",
              "\n",
              "    .colab-df-convert:hover {\n",
              "      background-color: #E2EBFA;\n",
              "      box-shadow: 0px 1px 2px rgba(60, 64, 67, 0.3), 0px 1px 3px 1px rgba(60, 64, 67, 0.15);\n",
              "      fill: #174EA6;\n",
              "    }\n",
              "\n",
              "    [theme=dark] .colab-df-convert {\n",
              "      background-color: #3B4455;\n",
              "      fill: #D2E3FC;\n",
              "    }\n",
              "\n",
              "    [theme=dark] .colab-df-convert:hover {\n",
              "      background-color: #434B5C;\n",
              "      box-shadow: 0px 1px 3px 1px rgba(0, 0, 0, 0.15);\n",
              "      filter: drop-shadow(0px 1px 2px rgba(0, 0, 0, 0.3));\n",
              "      fill: #FFFFFF;\n",
              "    }\n",
              "  </style>\n",
              "\n",
              "      <script>\n",
              "        const buttonEl =\n",
              "          document.querySelector('#df-0b92c0bf-abd1-460a-8098-abf808be0df3 button.colab-df-convert');\n",
              "        buttonEl.style.display =\n",
              "          google.colab.kernel.accessAllowed ? 'block' : 'none';\n",
              "\n",
              "        async function convertToInteractive(key) {\n",
              "          const element = document.querySelector('#df-0b92c0bf-abd1-460a-8098-abf808be0df3');\n",
              "          const dataTable =\n",
              "            await google.colab.kernel.invokeFunction('convertToInteractive',\n",
              "                                                     [key], {});\n",
              "          if (!dataTable) return;\n",
              "\n",
              "          const docLinkHtml = 'Like what you see? Visit the ' +\n",
              "            '<a target=\"_blank\" href=https://colab.research.google.com/notebooks/data_table.ipynb>data table notebook</a>'\n",
              "            + ' to learn more about interactive tables.';\n",
              "          element.innerHTML = '';\n",
              "          dataTable['output_type'] = 'display_data';\n",
              "          await google.colab.output.renderOutput(dataTable, element);\n",
              "          const docLink = document.createElement('div');\n",
              "          docLink.innerHTML = docLinkHtml;\n",
              "          element.appendChild(docLink);\n",
              "        }\n",
              "      </script>\n",
              "    </div>\n",
              "  </div>\n",
              "  "
            ]
          },
          "metadata": {},
          "execution_count": 4
        }
      ]
    },
    {
      "cell_type": "code",
      "source": [
        "#Conferindo o Tipo de dados\n",
        "df.info()"
      ],
      "metadata": {
        "colab": {
          "base_uri": "https://localhost:8080/"
        },
        "id": "ymAmMDshPOMM",
        "outputId": "a7a0ed7f-26cd-4dd2-ba2f-c8ceaf80b467"
      },
      "execution_count": null,
      "outputs": [
        {
          "output_type": "stream",
          "name": "stdout",
          "text": [
            "<class 'pandas.core.frame.DataFrame'>\n",
            "RangeIndex: 6435 entries, 0 to 6434\n",
            "Data columns (total 8 columns):\n",
            " #   Column        Non-Null Count  Dtype         \n",
            "---  ------        --------------  -----         \n",
            " 0   Store         6435 non-null   int64         \n",
            " 1   Date          6435 non-null   datetime64[ns]\n",
            " 2   Weekly_Sales  6435 non-null   float64       \n",
            " 3   Holiday_Flag  6435 non-null   int64         \n",
            " 4   Temperature   6435 non-null   float64       \n",
            " 5   Fuel_Price    6435 non-null   float64       \n",
            " 6   CPI           6435 non-null   float64       \n",
            " 7   Unemployment  6435 non-null   float64       \n",
            "dtypes: datetime64[ns](1), float64(5), int64(2)\n",
            "memory usage: 402.3 KB\n"
          ]
        }
      ]
    },
    {
      "cell_type": "markdown",
      "source": [
        "## 3.4 Verificando qual o preço médio de venda semanal"
      ],
      "metadata": {
        "id": "eAzT1B89QAMR"
      }
    },
    {
      "cell_type": "code",
      "source": [
        "media_semanal = df['Weekly_Sales'].mean().round(2)\n",
        "print(\"Média de venda semanal: \", media_semanal)\n"
      ],
      "metadata": {
        "colab": {
          "base_uri": "https://localhost:8080/"
        },
        "id": "aBqjzv7xQhIb",
        "outputId": "62bd53cd-f8e6-46fe-abb2-32343615328f"
      },
      "execution_count": null,
      "outputs": [
        {
          "output_type": "stream",
          "name": "stdout",
          "text": [
            "Média de venda semanal:  1046964.88\n"
          ]
        }
      ]
    },
    {
      "cell_type": "markdown",
      "source": [
        "### 3.4.1 Da loja com maior venda acumulada (soma de vendas de todo o período), quantas semanas do ano ele ultrapassou a média do período?\n",
        "> Loja 20. 143 semanas (todas as semanas da loja 20 do ano ultrapassaram a média de vendas geral do período)"
      ],
      "metadata": {
        "id": "K5cD9qTTRk7F"
      }
    },
    {
      "cell_type": "code",
      "source": [
        "df['venda_acumuluda']=df.groupby('Store')['Weekly_Sales'].transform('sum')\n",
        "df.sort_values('venda_acumuluda', ascending = False)"
      ],
      "metadata": {
        "colab": {
          "base_uri": "https://localhost:8080/",
          "height": 424
        },
        "id": "QGtGKAzoSCTB",
        "outputId": "36c99755-e1d3-4624-cc3c-f22148504d35"
      },
      "execution_count": null,
      "outputs": [
        {
          "output_type": "execute_result",
          "data": {
            "text/plain": [
              "      Store       Date  Weekly_Sales  Holiday_Flag  Temperature  Fuel_Price  \\\n",
              "2754     20 2010-10-22    1893955.27             0        50.52        2.92   \n",
              "2789     20 2011-06-24    1950826.32             0        72.40        3.80   \n",
              "2768     20 2011-01-28    1761506.68             0        23.21        3.24   \n",
              "2767     20 2011-01-21    1781805.66             0        27.43        3.23   \n",
              "2766     20 2011-01-14    1884345.01             0        20.39        3.21   \n",
              "...     ...        ...           ...           ...          ...         ...   \n",
              "4623     33 2010-12-31     219804.85             1        52.91        3.15   \n",
              "4624     33 2011-07-01     243948.82             0        46.25        3.29   \n",
              "4625     33 2011-01-14     259527.75             0        53.63        3.31   \n",
              "4626     33 2011-01-21     244856.44             0        59.46        3.34   \n",
              "4718     33 2012-10-26     253731.13             0        73.70        4.30   \n",
              "\n",
              "        CPI  Unemployment  venda_acumuluda  \n",
              "2754 205.06          7.48     301397792.46  \n",
              "2789 208.23          7.29     301397792.46  \n",
              "2768 205.39          7.34     301397792.46  \n",
              "2767 205.05          7.34     301397792.46  \n",
              "2766 204.70          7.34     301397792.46  \n",
              "...     ...           ...              ...  \n",
              "4623 127.09          9.27      37160221.96  \n",
              "4624 127.19          8.95      37160221.96  \n",
              "4625 127.30          8.95      37160221.96  \n",
              "4626 127.44          8.95      37160221.96  \n",
              "4718 131.19          6.89      37160221.96  \n",
              "\n",
              "[6435 rows x 9 columns]"
            ],
            "text/html": [
              "\n",
              "  <div id=\"df-673c2ff0-72ab-4953-8b46-5afa5026fd3d\">\n",
              "    <div class=\"colab-df-container\">\n",
              "      <div>\n",
              "<style scoped>\n",
              "    .dataframe tbody tr th:only-of-type {\n",
              "        vertical-align: middle;\n",
              "    }\n",
              "\n",
              "    .dataframe tbody tr th {\n",
              "        vertical-align: top;\n",
              "    }\n",
              "\n",
              "    .dataframe thead th {\n",
              "        text-align: right;\n",
              "    }\n",
              "</style>\n",
              "<table border=\"1\" class=\"dataframe\">\n",
              "  <thead>\n",
              "    <tr style=\"text-align: right;\">\n",
              "      <th></th>\n",
              "      <th>Store</th>\n",
              "      <th>Date</th>\n",
              "      <th>Weekly_Sales</th>\n",
              "      <th>Holiday_Flag</th>\n",
              "      <th>Temperature</th>\n",
              "      <th>Fuel_Price</th>\n",
              "      <th>CPI</th>\n",
              "      <th>Unemployment</th>\n",
              "      <th>venda_acumuluda</th>\n",
              "    </tr>\n",
              "  </thead>\n",
              "  <tbody>\n",
              "    <tr>\n",
              "      <th>2754</th>\n",
              "      <td>20</td>\n",
              "      <td>2010-10-22</td>\n",
              "      <td>1893955.27</td>\n",
              "      <td>0</td>\n",
              "      <td>50.52</td>\n",
              "      <td>2.92</td>\n",
              "      <td>205.06</td>\n",
              "      <td>7.48</td>\n",
              "      <td>301397792.46</td>\n",
              "    </tr>\n",
              "    <tr>\n",
              "      <th>2789</th>\n",
              "      <td>20</td>\n",
              "      <td>2011-06-24</td>\n",
              "      <td>1950826.32</td>\n",
              "      <td>0</td>\n",
              "      <td>72.40</td>\n",
              "      <td>3.80</td>\n",
              "      <td>208.23</td>\n",
              "      <td>7.29</td>\n",
              "      <td>301397792.46</td>\n",
              "    </tr>\n",
              "    <tr>\n",
              "      <th>2768</th>\n",
              "      <td>20</td>\n",
              "      <td>2011-01-28</td>\n",
              "      <td>1761506.68</td>\n",
              "      <td>0</td>\n",
              "      <td>23.21</td>\n",
              "      <td>3.24</td>\n",
              "      <td>205.39</td>\n",
              "      <td>7.34</td>\n",
              "      <td>301397792.46</td>\n",
              "    </tr>\n",
              "    <tr>\n",
              "      <th>2767</th>\n",
              "      <td>20</td>\n",
              "      <td>2011-01-21</td>\n",
              "      <td>1781805.66</td>\n",
              "      <td>0</td>\n",
              "      <td>27.43</td>\n",
              "      <td>3.23</td>\n",
              "      <td>205.05</td>\n",
              "      <td>7.34</td>\n",
              "      <td>301397792.46</td>\n",
              "    </tr>\n",
              "    <tr>\n",
              "      <th>2766</th>\n",
              "      <td>20</td>\n",
              "      <td>2011-01-14</td>\n",
              "      <td>1884345.01</td>\n",
              "      <td>0</td>\n",
              "      <td>20.39</td>\n",
              "      <td>3.21</td>\n",
              "      <td>204.70</td>\n",
              "      <td>7.34</td>\n",
              "      <td>301397792.46</td>\n",
              "    </tr>\n",
              "    <tr>\n",
              "      <th>...</th>\n",
              "      <td>...</td>\n",
              "      <td>...</td>\n",
              "      <td>...</td>\n",
              "      <td>...</td>\n",
              "      <td>...</td>\n",
              "      <td>...</td>\n",
              "      <td>...</td>\n",
              "      <td>...</td>\n",
              "      <td>...</td>\n",
              "    </tr>\n",
              "    <tr>\n",
              "      <th>4623</th>\n",
              "      <td>33</td>\n",
              "      <td>2010-12-31</td>\n",
              "      <td>219804.85</td>\n",
              "      <td>1</td>\n",
              "      <td>52.91</td>\n",
              "      <td>3.15</td>\n",
              "      <td>127.09</td>\n",
              "      <td>9.27</td>\n",
              "      <td>37160221.96</td>\n",
              "    </tr>\n",
              "    <tr>\n",
              "      <th>4624</th>\n",
              "      <td>33</td>\n",
              "      <td>2011-07-01</td>\n",
              "      <td>243948.82</td>\n",
              "      <td>0</td>\n",
              "      <td>46.25</td>\n",
              "      <td>3.29</td>\n",
              "      <td>127.19</td>\n",
              "      <td>8.95</td>\n",
              "      <td>37160221.96</td>\n",
              "    </tr>\n",
              "    <tr>\n",
              "      <th>4625</th>\n",
              "      <td>33</td>\n",
              "      <td>2011-01-14</td>\n",
              "      <td>259527.75</td>\n",
              "      <td>0</td>\n",
              "      <td>53.63</td>\n",
              "      <td>3.31</td>\n",
              "      <td>127.30</td>\n",
              "      <td>8.95</td>\n",
              "      <td>37160221.96</td>\n",
              "    </tr>\n",
              "    <tr>\n",
              "      <th>4626</th>\n",
              "      <td>33</td>\n",
              "      <td>2011-01-21</td>\n",
              "      <td>244856.44</td>\n",
              "      <td>0</td>\n",
              "      <td>59.46</td>\n",
              "      <td>3.34</td>\n",
              "      <td>127.44</td>\n",
              "      <td>8.95</td>\n",
              "      <td>37160221.96</td>\n",
              "    </tr>\n",
              "    <tr>\n",
              "      <th>4718</th>\n",
              "      <td>33</td>\n",
              "      <td>2012-10-26</td>\n",
              "      <td>253731.13</td>\n",
              "      <td>0</td>\n",
              "      <td>73.70</td>\n",
              "      <td>4.30</td>\n",
              "      <td>131.19</td>\n",
              "      <td>6.89</td>\n",
              "      <td>37160221.96</td>\n",
              "    </tr>\n",
              "  </tbody>\n",
              "</table>\n",
              "<p>6435 rows × 9 columns</p>\n",
              "</div>\n",
              "      <button class=\"colab-df-convert\" onclick=\"convertToInteractive('df-673c2ff0-72ab-4953-8b46-5afa5026fd3d')\"\n",
              "              title=\"Convert this dataframe to an interactive table.\"\n",
              "              style=\"display:none;\">\n",
              "        \n",
              "  <svg xmlns=\"http://www.w3.org/2000/svg\" height=\"24px\"viewBox=\"0 0 24 24\"\n",
              "       width=\"24px\">\n",
              "    <path d=\"M0 0h24v24H0V0z\" fill=\"none\"/>\n",
              "    <path d=\"M18.56 5.44l.94 2.06.94-2.06 2.06-.94-2.06-.94-.94-2.06-.94 2.06-2.06.94zm-11 1L8.5 8.5l.94-2.06 2.06-.94-2.06-.94L8.5 2.5l-.94 2.06-2.06.94zm10 10l.94 2.06.94-2.06 2.06-.94-2.06-.94-.94-2.06-.94 2.06-2.06.94z\"/><path d=\"M17.41 7.96l-1.37-1.37c-.4-.4-.92-.59-1.43-.59-.52 0-1.04.2-1.43.59L10.3 9.45l-7.72 7.72c-.78.78-.78 2.05 0 2.83L4 21.41c.39.39.9.59 1.41.59.51 0 1.02-.2 1.41-.59l7.78-7.78 2.81-2.81c.8-.78.8-2.07 0-2.86zM5.41 20L4 18.59l7.72-7.72 1.47 1.35L5.41 20z\"/>\n",
              "  </svg>\n",
              "      </button>\n",
              "      \n",
              "  <style>\n",
              "    .colab-df-container {\n",
              "      display:flex;\n",
              "      flex-wrap:wrap;\n",
              "      gap: 12px;\n",
              "    }\n",
              "\n",
              "    .colab-df-convert {\n",
              "      background-color: #E8F0FE;\n",
              "      border: none;\n",
              "      border-radius: 50%;\n",
              "      cursor: pointer;\n",
              "      display: none;\n",
              "      fill: #1967D2;\n",
              "      height: 32px;\n",
              "      padding: 0 0 0 0;\n",
              "      width: 32px;\n",
              "    }\n",
              "\n",
              "    .colab-df-convert:hover {\n",
              "      background-color: #E2EBFA;\n",
              "      box-shadow: 0px 1px 2px rgba(60, 64, 67, 0.3), 0px 1px 3px 1px rgba(60, 64, 67, 0.15);\n",
              "      fill: #174EA6;\n",
              "    }\n",
              "\n",
              "    [theme=dark] .colab-df-convert {\n",
              "      background-color: #3B4455;\n",
              "      fill: #D2E3FC;\n",
              "    }\n",
              "\n",
              "    [theme=dark] .colab-df-convert:hover {\n",
              "      background-color: #434B5C;\n",
              "      box-shadow: 0px 1px 3px 1px rgba(0, 0, 0, 0.15);\n",
              "      filter: drop-shadow(0px 1px 2px rgba(0, 0, 0, 0.3));\n",
              "      fill: #FFFFFF;\n",
              "    }\n",
              "  </style>\n",
              "\n",
              "      <script>\n",
              "        const buttonEl =\n",
              "          document.querySelector('#df-673c2ff0-72ab-4953-8b46-5afa5026fd3d button.colab-df-convert');\n",
              "        buttonEl.style.display =\n",
              "          google.colab.kernel.accessAllowed ? 'block' : 'none';\n",
              "\n",
              "        async function convertToInteractive(key) {\n",
              "          const element = document.querySelector('#df-673c2ff0-72ab-4953-8b46-5afa5026fd3d');\n",
              "          const dataTable =\n",
              "            await google.colab.kernel.invokeFunction('convertToInteractive',\n",
              "                                                     [key], {});\n",
              "          if (!dataTable) return;\n",
              "\n",
              "          const docLinkHtml = 'Like what you see? Visit the ' +\n",
              "            '<a target=\"_blank\" href=https://colab.research.google.com/notebooks/data_table.ipynb>data table notebook</a>'\n",
              "            + ' to learn more about interactive tables.';\n",
              "          element.innerHTML = '';\n",
              "          dataTable['output_type'] = 'display_data';\n",
              "          await google.colab.output.renderOutput(dataTable, element);\n",
              "          const docLink = document.createElement('div');\n",
              "          docLink.innerHTML = docLinkHtml;\n",
              "          element.appendChild(docLink);\n",
              "        }\n",
              "      </script>\n",
              "    </div>\n",
              "  </div>\n",
              "  "
            ]
          },
          "metadata": {},
          "execution_count": 7
        }
      ]
    },
    {
      "cell_type": "code",
      "source": [
        "store20 = df[df['Store']==20]\n",
        "len(store20)"
      ],
      "metadata": {
        "colab": {
          "base_uri": "https://localhost:8080/"
        },
        "id": "vPMQFfWJSOG7",
        "outputId": "546b3393-c2c5-4160-f880-3fec002a5974"
      },
      "execution_count": null,
      "outputs": [
        {
          "output_type": "execute_result",
          "data": {
            "text/plain": [
              "143"
            ]
          },
          "metadata": {},
          "execution_count": 8
        }
      ]
    },
    {
      "cell_type": "code",
      "source": [
        "df['Weekly_Sales'].mean()"
      ],
      "metadata": {
        "colab": {
          "base_uri": "https://localhost:8080/"
        },
        "id": "tpj-BrjpSY8C",
        "outputId": "8456de48-2b58-4176-9b07-be110224e901"
      },
      "execution_count": null,
      "outputs": [
        {
          "output_type": "execute_result",
          "data": {
            "text/plain": [
              "1046964.8775617715"
            ]
          },
          "metadata": {},
          "execution_count": 9
        }
      ]
    },
    {
      "cell_type": "code",
      "source": [
        "semanas_acima_media_loja20 = store20[(store20['Weekly_Sales']) > 1046964.8775617732 ]"
      ],
      "metadata": {
        "id": "OJWdE1ZcSaMy"
      },
      "execution_count": null,
      "outputs": []
    },
    {
      "cell_type": "code",
      "source": [
        "semanas_acima_media_loja20.shape[0]"
      ],
      "metadata": {
        "colab": {
          "base_uri": "https://localhost:8080/"
        },
        "id": "d5Hvc0YOSceB",
        "outputId": "8ede7e27-2a48-4219-e853-b12dc652361e"
      },
      "execution_count": null,
      "outputs": [
        {
          "output_type": "execute_result",
          "data": {
            "text/plain": [
              "143"
            ]
          },
          "metadata": {},
          "execution_count": 11
        }
      ]
    },
    {
      "cell_type": "markdown",
      "source": [
        "## 3.5 Verificando a correlação das variáveis"
      ],
      "metadata": {
        "id": "DfL2C-lXWe43"
      }
    },
    {
      "cell_type": "code",
      "source": [
        "df.corr()"
      ],
      "metadata": {
        "colab": {
          "base_uri": "https://localhost:8080/",
          "height": 300
        },
        "id": "CrtKGTv_TdQu",
        "outputId": "ac0fb622-258b-4b63-dffd-c6af80e8f51e"
      },
      "execution_count": null,
      "outputs": [
        {
          "output_type": "execute_result",
          "data": {
            "text/plain": [
              "                 Store  Weekly_Sales  Holiday_Flag  Temperature  Fuel_Price  \\\n",
              "Store             1.00         -0.34         -0.00        -0.02        0.06   \n",
              "Weekly_Sales     -0.34          1.00          0.04        -0.06        0.01   \n",
              "Holiday_Flag     -0.00          0.04          1.00        -0.16       -0.08   \n",
              "Temperature      -0.02         -0.06         -0.16         1.00        0.14   \n",
              "Fuel_Price        0.06          0.01         -0.08         0.14        1.00   \n",
              "CPI              -0.21         -0.07         -0.00         0.18       -0.17   \n",
              "Unemployment      0.22         -0.11          0.01         0.10       -0.03   \n",
              "venda_acumuluda  -0.35          0.96          0.00        -0.04        0.02   \n",
              "\n",
              "                  CPI  Unemployment  venda_acumuluda  \n",
              "Store           -0.21          0.22            -0.35  \n",
              "Weekly_Sales    -0.07         -0.11             0.96  \n",
              "Holiday_Flag    -0.00          0.01             0.00  \n",
              "Temperature      0.18          0.10            -0.04  \n",
              "Fuel_Price      -0.17         -0.03             0.02  \n",
              "CPI              1.00         -0.30            -0.08  \n",
              "Unemployment    -0.30          1.00            -0.11  \n",
              "venda_acumuluda -0.08         -0.11             1.00  "
            ],
            "text/html": [
              "\n",
              "  <div id=\"df-8babf95b-ea5b-4992-b371-ffa2d51d4b01\">\n",
              "    <div class=\"colab-df-container\">\n",
              "      <div>\n",
              "<style scoped>\n",
              "    .dataframe tbody tr th:only-of-type {\n",
              "        vertical-align: middle;\n",
              "    }\n",
              "\n",
              "    .dataframe tbody tr th {\n",
              "        vertical-align: top;\n",
              "    }\n",
              "\n",
              "    .dataframe thead th {\n",
              "        text-align: right;\n",
              "    }\n",
              "</style>\n",
              "<table border=\"1\" class=\"dataframe\">\n",
              "  <thead>\n",
              "    <tr style=\"text-align: right;\">\n",
              "      <th></th>\n",
              "      <th>Store</th>\n",
              "      <th>Weekly_Sales</th>\n",
              "      <th>Holiday_Flag</th>\n",
              "      <th>Temperature</th>\n",
              "      <th>Fuel_Price</th>\n",
              "      <th>CPI</th>\n",
              "      <th>Unemployment</th>\n",
              "      <th>venda_acumuluda</th>\n",
              "    </tr>\n",
              "  </thead>\n",
              "  <tbody>\n",
              "    <tr>\n",
              "      <th>Store</th>\n",
              "      <td>1.00</td>\n",
              "      <td>-0.34</td>\n",
              "      <td>-0.00</td>\n",
              "      <td>-0.02</td>\n",
              "      <td>0.06</td>\n",
              "      <td>-0.21</td>\n",
              "      <td>0.22</td>\n",
              "      <td>-0.35</td>\n",
              "    </tr>\n",
              "    <tr>\n",
              "      <th>Weekly_Sales</th>\n",
              "      <td>-0.34</td>\n",
              "      <td>1.00</td>\n",
              "      <td>0.04</td>\n",
              "      <td>-0.06</td>\n",
              "      <td>0.01</td>\n",
              "      <td>-0.07</td>\n",
              "      <td>-0.11</td>\n",
              "      <td>0.96</td>\n",
              "    </tr>\n",
              "    <tr>\n",
              "      <th>Holiday_Flag</th>\n",
              "      <td>-0.00</td>\n",
              "      <td>0.04</td>\n",
              "      <td>1.00</td>\n",
              "      <td>-0.16</td>\n",
              "      <td>-0.08</td>\n",
              "      <td>-0.00</td>\n",
              "      <td>0.01</td>\n",
              "      <td>0.00</td>\n",
              "    </tr>\n",
              "    <tr>\n",
              "      <th>Temperature</th>\n",
              "      <td>-0.02</td>\n",
              "      <td>-0.06</td>\n",
              "      <td>-0.16</td>\n",
              "      <td>1.00</td>\n",
              "      <td>0.14</td>\n",
              "      <td>0.18</td>\n",
              "      <td>0.10</td>\n",
              "      <td>-0.04</td>\n",
              "    </tr>\n",
              "    <tr>\n",
              "      <th>Fuel_Price</th>\n",
              "      <td>0.06</td>\n",
              "      <td>0.01</td>\n",
              "      <td>-0.08</td>\n",
              "      <td>0.14</td>\n",
              "      <td>1.00</td>\n",
              "      <td>-0.17</td>\n",
              "      <td>-0.03</td>\n",
              "      <td>0.02</td>\n",
              "    </tr>\n",
              "    <tr>\n",
              "      <th>CPI</th>\n",
              "      <td>-0.21</td>\n",
              "      <td>-0.07</td>\n",
              "      <td>-0.00</td>\n",
              "      <td>0.18</td>\n",
              "      <td>-0.17</td>\n",
              "      <td>1.00</td>\n",
              "      <td>-0.30</td>\n",
              "      <td>-0.08</td>\n",
              "    </tr>\n",
              "    <tr>\n",
              "      <th>Unemployment</th>\n",
              "      <td>0.22</td>\n",
              "      <td>-0.11</td>\n",
              "      <td>0.01</td>\n",
              "      <td>0.10</td>\n",
              "      <td>-0.03</td>\n",
              "      <td>-0.30</td>\n",
              "      <td>1.00</td>\n",
              "      <td>-0.11</td>\n",
              "    </tr>\n",
              "    <tr>\n",
              "      <th>venda_acumuluda</th>\n",
              "      <td>-0.35</td>\n",
              "      <td>0.96</td>\n",
              "      <td>0.00</td>\n",
              "      <td>-0.04</td>\n",
              "      <td>0.02</td>\n",
              "      <td>-0.08</td>\n",
              "      <td>-0.11</td>\n",
              "      <td>1.00</td>\n",
              "    </tr>\n",
              "  </tbody>\n",
              "</table>\n",
              "</div>\n",
              "      <button class=\"colab-df-convert\" onclick=\"convertToInteractive('df-8babf95b-ea5b-4992-b371-ffa2d51d4b01')\"\n",
              "              title=\"Convert this dataframe to an interactive table.\"\n",
              "              style=\"display:none;\">\n",
              "        \n",
              "  <svg xmlns=\"http://www.w3.org/2000/svg\" height=\"24px\"viewBox=\"0 0 24 24\"\n",
              "       width=\"24px\">\n",
              "    <path d=\"M0 0h24v24H0V0z\" fill=\"none\"/>\n",
              "    <path d=\"M18.56 5.44l.94 2.06.94-2.06 2.06-.94-2.06-.94-.94-2.06-.94 2.06-2.06.94zm-11 1L8.5 8.5l.94-2.06 2.06-.94-2.06-.94L8.5 2.5l-.94 2.06-2.06.94zm10 10l.94 2.06.94-2.06 2.06-.94-2.06-.94-.94-2.06-.94 2.06-2.06.94z\"/><path d=\"M17.41 7.96l-1.37-1.37c-.4-.4-.92-.59-1.43-.59-.52 0-1.04.2-1.43.59L10.3 9.45l-7.72 7.72c-.78.78-.78 2.05 0 2.83L4 21.41c.39.39.9.59 1.41.59.51 0 1.02-.2 1.41-.59l7.78-7.78 2.81-2.81c.8-.78.8-2.07 0-2.86zM5.41 20L4 18.59l7.72-7.72 1.47 1.35L5.41 20z\"/>\n",
              "  </svg>\n",
              "      </button>\n",
              "      \n",
              "  <style>\n",
              "    .colab-df-container {\n",
              "      display:flex;\n",
              "      flex-wrap:wrap;\n",
              "      gap: 12px;\n",
              "    }\n",
              "\n",
              "    .colab-df-convert {\n",
              "      background-color: #E8F0FE;\n",
              "      border: none;\n",
              "      border-radius: 50%;\n",
              "      cursor: pointer;\n",
              "      display: none;\n",
              "      fill: #1967D2;\n",
              "      height: 32px;\n",
              "      padding: 0 0 0 0;\n",
              "      width: 32px;\n",
              "    }\n",
              "\n",
              "    .colab-df-convert:hover {\n",
              "      background-color: #E2EBFA;\n",
              "      box-shadow: 0px 1px 2px rgba(60, 64, 67, 0.3), 0px 1px 3px 1px rgba(60, 64, 67, 0.15);\n",
              "      fill: #174EA6;\n",
              "    }\n",
              "\n",
              "    [theme=dark] .colab-df-convert {\n",
              "      background-color: #3B4455;\n",
              "      fill: #D2E3FC;\n",
              "    }\n",
              "\n",
              "    [theme=dark] .colab-df-convert:hover {\n",
              "      background-color: #434B5C;\n",
              "      box-shadow: 0px 1px 3px 1px rgba(0, 0, 0, 0.15);\n",
              "      filter: drop-shadow(0px 1px 2px rgba(0, 0, 0, 0.3));\n",
              "      fill: #FFFFFF;\n",
              "    }\n",
              "  </style>\n",
              "\n",
              "      <script>\n",
              "        const buttonEl =\n",
              "          document.querySelector('#df-8babf95b-ea5b-4992-b371-ffa2d51d4b01 button.colab-df-convert');\n",
              "        buttonEl.style.display =\n",
              "          google.colab.kernel.accessAllowed ? 'block' : 'none';\n",
              "\n",
              "        async function convertToInteractive(key) {\n",
              "          const element = document.querySelector('#df-8babf95b-ea5b-4992-b371-ffa2d51d4b01');\n",
              "          const dataTable =\n",
              "            await google.colab.kernel.invokeFunction('convertToInteractive',\n",
              "                                                     [key], {});\n",
              "          if (!dataTable) return;\n",
              "\n",
              "          const docLinkHtml = 'Like what you see? Visit the ' +\n",
              "            '<a target=\"_blank\" href=https://colab.research.google.com/notebooks/data_table.ipynb>data table notebook</a>'\n",
              "            + ' to learn more about interactive tables.';\n",
              "          element.innerHTML = '';\n",
              "          dataTable['output_type'] = 'display_data';\n",
              "          await google.colab.output.renderOutput(dataTable, element);\n",
              "          const docLink = document.createElement('div');\n",
              "          docLink.innerHTML = docLinkHtml;\n",
              "          element.appendChild(docLink);\n",
              "        }\n",
              "      </script>\n",
              "    </div>\n",
              "  </div>\n",
              "  "
            ]
          },
          "metadata": {},
          "execution_count": 12
        }
      ]
    },
    {
      "cell_type": "markdown",
      "source": [
        "## 3.6 Verificando no gráfico as correlações"
      ],
      "metadata": {
        "id": "MyXOy7SdWq9t"
      }
    },
    {
      "cell_type": "code",
      "source": [
        "plt.figure(figsize=(20, 10))\n",
        "sns.heatmap(df.corr(),\n",
        "            annot = True,\n",
        "            fmt = '.2f',\n",
        "            cmap='Blues')\n",
        "plt.title('Correlação entre variáveis do dataset')\n",
        "plt.show()"
      ],
      "metadata": {
        "colab": {
          "base_uri": "https://localhost:8080/",
          "height": 608
        },
        "id": "uZ8jg2EmVSXF",
        "outputId": "4d8e62ed-45a2-4367-834d-3be9972de2ec"
      },
      "execution_count": null,
      "outputs": [
        {
          "output_type": "display_data",
          "data": {
            "text/plain": [
              "<Figure size 1440x720 with 2 Axes>"
            ],
            "image/png": "[encoded data removed]"
          },
          "metadata": {
            "needs_background": "light"
          }
        }
      ]
    },
    {
      "cell_type": "markdown",
      "source": [
        "# 4.0 Insights"
      ],
      "metadata": {
        "id": "iZ4ms96St32B"
      }
    },
    {
      "cell_type": "markdown",
      "source": [
        "\n",
        "\n",
        "## 4.1 Verificação da média de vendas semanais por cada loja\n",
        "\n"
      ],
      "metadata": {
        "id": "CS-t6Bk0AFlW"
      }
    },
    {
      "cell_type": "code",
      "source": [
        "means  = df[['Store','Weekly_Sales']].groupby('Store').mean()\n",
        "means.reset_index(inplace = True)\n",
        "means.rename(columns = {'Weekly_Sales':'Mean_Sales'}, inplace = True )\n",
        "media_semanal = pd.merge(df, means, how = 'left', on = 'Store')\n",
        "media_semanal[['Store','Date','Mean_Sales']]\n"
      ],
      "metadata": {
        "colab": {
          "base_uri": "https://localhost:8080/",
          "height": 424
        },
        "id": "YXTghSeAASxG",
        "outputId": "b9011129-ae76-455a-85e4-e415fb7371cd"
      },
      "execution_count": null,
      "outputs": [
        {
          "output_type": "execute_result",
          "data": {
            "text/plain": [
              "      Store       Date  Mean_Sales\n",
              "0         1 2010-05-02  1555264.40\n",
              "1         1 2010-12-02  1555264.40\n",
              "2         1 2010-02-19  1555264.40\n",
              "3         1 2010-02-26  1555264.40\n",
              "4         1 2010-05-03  1555264.40\n",
              "...     ...        ...         ...\n",
              "6430     45 2012-09-28   785981.41\n",
              "6431     45 2012-05-10   785981.41\n",
              "6432     45 2012-12-10   785981.41\n",
              "6433     45 2012-10-19   785981.41\n",
              "6434     45 2012-10-26   785981.41\n",
              "\n",
              "[6435 rows x 3 columns]"
            ],
            "text/html": [
              "\n",
              "  <div id=\"df-97dd94ea-b44a-40cc-bb6f-8f60f703c9bd\">\n",
              "    <div class=\"colab-df-container\">\n",
              "      <div>\n",
              "<style scoped>\n",
              "    .dataframe tbody tr th:only-of-type {\n",
              "        vertical-align: middle;\n",
              "    }\n",
              "\n",
              "    .dataframe tbody tr th {\n",
              "        vertical-align: top;\n",
              "    }\n",
              "\n",
              "    .dataframe thead th {\n",
              "        text-align: right;\n",
              "    }\n",
              "</style>\n",
              "<table border=\"1\" class=\"dataframe\">\n",
              "  <thead>\n",
              "    <tr style=\"text-align: right;\">\n",
              "      <th></th>\n",
              "      <th>Store</th>\n",
              "      <th>Date</th>\n",
              "      <th>Mean_Sales</th>\n",
              "    </tr>\n",
              "  </thead>\n",
              "  <tbody>\n",
              "    <tr>\n",
              "      <th>0</th>\n",
              "      <td>1</td>\n",
              "      <td>2010-05-02</td>\n",
              "      <td>1555264.40</td>\n",
              "    </tr>\n",
              "    <tr>\n",
              "      <th>1</th>\n",
              "      <td>1</td>\n",
              "      <td>2010-12-02</td>\n",
              "      <td>1555264.40</td>\n",
              "    </tr>\n",
              "    <tr>\n",
              "      <th>2</th>\n",
              "      <td>1</td>\n",
              "      <td>2010-02-19</td>\n",
              "      <td>1555264.40</td>\n",
              "    </tr>\n",
              "    <tr>\n",
              "      <th>3</th>\n",
              "      <td>1</td>\n",
              "      <td>2010-02-26</td>\n",
              "      <td>1555264.40</td>\n",
              "    </tr>\n",
              "    <tr>\n",
              "      <th>4</th>\n",
              "      <td>1</td>\n",
              "      <td>2010-05-03</td>\n",
              "      <td>1555264.40</td>\n",
              "    </tr>\n",
              "    <tr>\n",
              "      <th>...</th>\n",
              "      <td>...</td>\n",
              "      <td>...</td>\n",
              "      <td>...</td>\n",
              "    </tr>\n",
              "    <tr>\n",
              "      <th>6430</th>\n",
              "      <td>45</td>\n",
              "      <td>2012-09-28</td>\n",
              "      <td>785981.41</td>\n",
              "    </tr>\n",
              "    <tr>\n",
              "      <th>6431</th>\n",
              "      <td>45</td>\n",
              "      <td>2012-05-10</td>\n",
              "      <td>785981.41</td>\n",
              "    </tr>\n",
              "    <tr>\n",
              "      <th>6432</th>\n",
              "      <td>45</td>\n",
              "      <td>2012-12-10</td>\n",
              "      <td>785981.41</td>\n",
              "    </tr>\n",
              "    <tr>\n",
              "      <th>6433</th>\n",
              "      <td>45</td>\n",
              "      <td>2012-10-19</td>\n",
              "      <td>785981.41</td>\n",
              "    </tr>\n",
              "    <tr>\n",
              "      <th>6434</th>\n",
              "      <td>45</td>\n",
              "      <td>2012-10-26</td>\n",
              "      <td>785981.41</td>\n",
              "    </tr>\n",
              "  </tbody>\n",
              "</table>\n",
              "<p>6435 rows × 3 columns</p>\n",
              "</div>\n",
              "      <button class=\"colab-df-convert\" onclick=\"convertToInteractive('df-97dd94ea-b44a-40cc-bb6f-8f60f703c9bd')\"\n",
              "              title=\"Convert this dataframe to an interactive table.\"\n",
              "              style=\"display:none;\">\n",
              "        \n",
              "  <svg xmlns=\"http://www.w3.org/2000/svg\" height=\"24px\"viewBox=\"0 0 24 24\"\n",
              "       width=\"24px\">\n",
              "    <path d=\"M0 0h24v24H0V0z\" fill=\"none\"/>\n",
              "    <path d=\"M18.56 5.44l.94 2.06.94-2.06 2.06-.94-2.06-.94-.94-2.06-.94 2.06-2.06.94zm-11 1L8.5 8.5l.94-2.06 2.06-.94-2.06-.94L8.5 2.5l-.94 2.06-2.06.94zm10 10l.94 2.06.94-2.06 2.06-.94-2.06-.94-.94-2.06-.94 2.06-2.06.94z\"/><path d=\"M17.41 7.96l-1.37-1.37c-.4-.4-.92-.59-1.43-.59-.52 0-1.04.2-1.43.59L10.3 9.45l-7.72 7.72c-.78.78-.78 2.05 0 2.83L4 21.41c.39.39.9.59 1.41.59.51 0 1.02-.2 1.41-.59l7.78-7.78 2.81-2.81c.8-.78.8-2.07 0-2.86zM5.41 20L4 18.59l7.72-7.72 1.47 1.35L5.41 20z\"/>\n",
              "  </svg>\n",
              "      </button>\n",
              "      \n",
              "  <style>\n",
              "    .colab-df-container {\n",
              "      display:flex;\n",
              "      flex-wrap:wrap;\n",
              "      gap: 12px;\n",
              "    }\n",
              "\n",
              "    .colab-df-convert {\n",
              "      background-color: #E8F0FE;\n",
              "      border: none;\n",
              "      border-radius: 50%;\n",
              "      cursor: pointer;\n",
              "      display: none;\n",
              "      fill: #1967D2;\n",
              "      height: 32px;\n",
              "      padding: 0 0 0 0;\n",
              "      width: 32px;\n",
              "    }\n",
              "\n",
              "    .colab-df-convert:hover {\n",
              "      background-color: #E2EBFA;\n",
              "      box-shadow: 0px 1px 2px rgba(60, 64, 67, 0.3), 0px 1px 3px 1px rgba(60, 64, 67, 0.15);\n",
              "      fill: #174EA6;\n",
              "    }\n",
              "\n",
              "    [theme=dark] .colab-df-convert {\n",
              "      background-color: #3B4455;\n",
              "      fill: #D2E3FC;\n",
              "    }\n",
              "\n",
              "    [theme=dark] .colab-df-convert:hover {\n",
              "      background-color: #434B5C;\n",
              "      box-shadow: 0px 1px 3px 1px rgba(0, 0, 0, 0.15);\n",
              "      filter: drop-shadow(0px 1px 2px rgba(0, 0, 0, 0.3));\n",
              "      fill: #FFFFFF;\n",
              "    }\n",
              "  </style>\n",
              "\n",
              "      <script>\n",
              "        const buttonEl =\n",
              "          document.querySelector('#df-97dd94ea-b44a-40cc-bb6f-8f60f703c9bd button.colab-df-convert');\n",
              "        buttonEl.style.display =\n",
              "          google.colab.kernel.accessAllowed ? 'block' : 'none';\n",
              "\n",
              "        async function convertToInteractive(key) {\n",
              "          const element = document.querySelector('#df-97dd94ea-b44a-40cc-bb6f-8f60f703c9bd');\n",
              "          const dataTable =\n",
              "            await google.colab.kernel.invokeFunction('convertToInteractive',\n",
              "                                                     [key], {});\n",
              "          if (!dataTable) return;\n",
              "\n",
              "          const docLinkHtml = 'Like what you see? Visit the ' +\n",
              "            '<a target=\"_blank\" href=https://colab.research.google.com/notebooks/data_table.ipynb>data table notebook</a>'\n",
              "            + ' to learn more about interactive tables.';\n",
              "          element.innerHTML = '';\n",
              "          dataTable['output_type'] = 'display_data';\n",
              "          await google.colab.output.renderOutput(dataTable, element);\n",
              "          const docLink = document.createElement('div');\n",
              "          docLink.innerHTML = docLinkHtml;\n",
              "          element.appendChild(docLink);\n",
              "        }\n",
              "      </script>\n",
              "    </div>\n",
              "  </div>\n",
              "  "
            ]
          },
          "metadata": {},
          "execution_count": 14
        }
      ]
    },
    {
      "cell_type": "code",
      "source": [
        "media_semanal[['Store','Date','Mean_Sales']].max(1)"
      ],
      "metadata": {
        "colab": {
          "base_uri": "https://localhost:8080/"
        },
        "id": "9imiab3dsNRO",
        "outputId": "9a6ed34f-41bb-4646-8d5a-4b98864dacc8"
      },
      "execution_count": null,
      "outputs": [
        {
          "output_type": "stream",
          "name": "stderr",
          "text": [
            "/usr/local/lib/python3.7/dist-packages/ipykernel_launcher.py:1: FutureWarning: Dropping of nuisance columns in DataFrame reductions (with 'numeric_only=None') is deprecated; in a future version this will raise TypeError.  Select only valid columns before calling the reduction.\n",
            "  \"\"\"Entry point for launching an IPython kernel.\n"
          ]
        },
        {
          "output_type": "execute_result",
          "data": {
            "text/plain": [
              "0      1555264.40\n",
              "1      1555264.40\n",
              "2      1555264.40\n",
              "3      1555264.40\n",
              "4      1555264.40\n",
              "          ...    \n",
              "6430    785981.41\n",
              "6431    785981.41\n",
              "6432    785981.41\n",
              "6433    785981.41\n",
              "6434    785981.41\n",
              "Length: 6435, dtype: float64"
            ]
          },
          "metadata": {},
          "execution_count": 15
        }
      ]
    },
    {
      "cell_type": "markdown",
      "source": [
        "## 4.2 Vendas máximas, mínimas e médias de todas as lojas ao longo do tempo."
      ],
      "metadata": {
        "id": "ZEZRyh3gQ3j5"
      }
    },
    {
      "cell_type": "code",
      "source": [
        "vendas = df.groupby(['Store']).agg({'Weekly_Sales':['min', 'mean','max']}).round()\n",
        "vendas = vendas.reset_index(level=0)\n",
        "vendas.head()"
      ],
      "metadata": {
        "colab": {
          "base_uri": "https://localhost:8080/",
          "height": 238
        },
        "id": "2ynuaJSjQ894",
        "outputId": "d6a3144c-026c-4d72-d247-53455c094e17"
      },
      "execution_count": null,
      "outputs": [
        {
          "output_type": "execute_result",
          "data": {
            "text/plain": [
              "  Store Weekly_Sales                      \n",
              "                 min       mean        max\n",
              "0     1   1316899.00 1555264.00 2387950.00\n",
              "1     2   1650394.00 1925751.00 3436008.00\n",
              "2     3    339597.00  402704.00  605990.00\n",
              "3     4   1762539.00 2094713.00 3676389.00\n",
              "4     5    260637.00  318012.00  507900.00"
            ],
            "text/html": [
              "\n",
              "  <div id=\"df-f25ffba6-d240-4eab-b1f4-847fc236a16a\">\n",
              "    <div class=\"colab-df-container\">\n",
              "      <div>\n",
              "<style scoped>\n",
              "    .dataframe tbody tr th:only-of-type {\n",
              "        vertical-align: middle;\n",
              "    }\n",
              "\n",
              "    .dataframe tbody tr th {\n",
              "        vertical-align: top;\n",
              "    }\n",
              "\n",
              "    .dataframe thead tr th {\n",
              "        text-align: left;\n",
              "    }\n",
              "</style>\n",
              "<table border=\"1\" class=\"dataframe\">\n",
              "  <thead>\n",
              "    <tr>\n",
              "      <th></th>\n",
              "      <th>Store</th>\n",
              "      <th colspan=\"3\" halign=\"left\">Weekly_Sales</th>\n",
              "    </tr>\n",
              "    <tr>\n",
              "      <th></th>\n",
              "      <th></th>\n",
              "      <th>min</th>\n",
              "      <th>mean</th>\n",
              "      <th>max</th>\n",
              "    </tr>\n",
              "  </thead>\n",
              "  <tbody>\n",
              "    <tr>\n",
              "      <th>0</th>\n",
              "      <td>1</td>\n",
              "      <td>1316899.00</td>\n",
              "      <td>1555264.00</td>\n",
              "      <td>2387950.00</td>\n",
              "    </tr>\n",
              "    <tr>\n",
              "      <th>1</th>\n",
              "      <td>2</td>\n",
              "      <td>1650394.00</td>\n",
              "      <td>1925751.00</td>\n",
              "      <td>3436008.00</td>\n",
              "    </tr>\n",
              "    <tr>\n",
              "      <th>2</th>\n",
              "      <td>3</td>\n",
              "      <td>339597.00</td>\n",
              "      <td>402704.00</td>\n",
              "      <td>605990.00</td>\n",
              "    </tr>\n",
              "    <tr>\n",
              "      <th>3</th>\n",
              "      <td>4</td>\n",
              "      <td>1762539.00</td>\n",
              "      <td>2094713.00</td>\n",
              "      <td>3676389.00</td>\n",
              "    </tr>\n",
              "    <tr>\n",
              "      <th>4</th>\n",
              "      <td>5</td>\n",
              "      <td>260637.00</td>\n",
              "      <td>318012.00</td>\n",
              "      <td>507900.00</td>\n",
              "    </tr>\n",
              "  </tbody>\n",
              "</table>\n",
              "</div>\n",
              "      <button class=\"colab-df-convert\" onclick=\"convertToInteractive('df-f25ffba6-d240-4eab-b1f4-847fc236a16a')\"\n",
              "              title=\"Convert this dataframe to an interactive table.\"\n",
              "              style=\"display:none;\">\n",
              "        \n",
              "  <svg xmlns=\"http://www.w3.org/2000/svg\" height=\"24px\"viewBox=\"0 0 24 24\"\n",
              "       width=\"24px\">\n",
              "    <path d=\"M0 0h24v24H0V0z\" fill=\"none\"/>\n",
              "    <path d=\"M18.56 5.44l.94 2.06.94-2.06 2.06-.94-2.06-.94-.94-2.06-.94 2.06-2.06.94zm-11 1L8.5 8.5l.94-2.06 2.06-.94-2.06-.94L8.5 2.5l-.94 2.06-2.06.94zm10 10l.94 2.06.94-2.06 2.06-.94-2.06-.94-.94-2.06-.94 2.06-2.06.94z\"/><path d=\"M17.41 7.96l-1.37-1.37c-.4-.4-.92-.59-1.43-.59-.52 0-1.04.2-1.43.59L10.3 9.45l-7.72 7.72c-.78.78-.78 2.05 0 2.83L4 21.41c.39.39.9.59 1.41.59.51 0 1.02-.2 1.41-.59l7.78-7.78 2.81-2.81c.8-.78.8-2.07 0-2.86zM5.41 20L4 18.59l7.72-7.72 1.47 1.35L5.41 20z\"/>\n",
              "  </svg>\n",
              "      </button>\n",
              "      \n",
              "  <style>\n",
              "    .colab-df-container {\n",
              "      display:flex;\n",
              "      flex-wrap:wrap;\n",
              "      gap: 12px;\n",
              "    }\n",
              "\n",
              "    .colab-df-convert {\n",
              "      background-color: #E8F0FE;\n",
              "      border: none;\n",
              "      border-radius: 50%;\n",
              "      cursor: pointer;\n",
              "      display: none;\n",
              "      fill: #1967D2;\n",
              "      height: 32px;\n",
              "      padding: 0 0 0 0;\n",
              "      width: 32px;\n",
              "    }\n",
              "\n",
              "    .colab-df-convert:hover {\n",
              "      background-color: #E2EBFA;\n",
              "      box-shadow: 0px 1px 2px rgba(60, 64, 67, 0.3), 0px 1px 3px 1px rgba(60, 64, 67, 0.15);\n",
              "      fill: #174EA6;\n",
              "    }\n",
              "\n",
              "    [theme=dark] .colab-df-convert {\n",
              "      background-color: #3B4455;\n",
              "      fill: #D2E3FC;\n",
              "    }\n",
              "\n",
              "    [theme=dark] .colab-df-convert:hover {\n",
              "      background-color: #434B5C;\n",
              "      box-shadow: 0px 1px 3px 1px rgba(0, 0, 0, 0.15);\n",
              "      filter: drop-shadow(0px 1px 2px rgba(0, 0, 0, 0.3));\n",
              "      fill: #FFFFFF;\n",
              "    }\n",
              "  </style>\n",
              "\n",
              "      <script>\n",
              "        const buttonEl =\n",
              "          document.querySelector('#df-f25ffba6-d240-4eab-b1f4-847fc236a16a button.colab-df-convert');\n",
              "        buttonEl.style.display =\n",
              "          google.colab.kernel.accessAllowed ? 'block' : 'none';\n",
              "\n",
              "        async function convertToInteractive(key) {\n",
              "          const element = document.querySelector('#df-f25ffba6-d240-4eab-b1f4-847fc236a16a');\n",
              "          const dataTable =\n",
              "            await google.colab.kernel.invokeFunction('convertToInteractive',\n",
              "                                                     [key], {});\n",
              "          if (!dataTable) return;\n",
              "\n",
              "          const docLinkHtml = 'Like what you see? Visit the ' +\n",
              "            '<a target=\"_blank\" href=https://colab.research.google.com/notebooks/data_table.ipynb>data table notebook</a>'\n",
              "            + ' to learn more about interactive tables.';\n",
              "          element.innerHTML = '';\n",
              "          dataTable['output_type'] = 'display_data';\n",
              "          await google.colab.output.renderOutput(dataTable, element);\n",
              "          const docLink = document.createElement('div');\n",
              "          docLink.innerHTML = docLinkHtml;\n",
              "          element.appendChild(docLink);\n",
              "        }\n",
              "      </script>\n",
              "    </div>\n",
              "  </div>\n",
              "  "
            ]
          },
          "metadata": {},
          "execution_count": 16
        }
      ]
    },
    {
      "cell_type": "code",
      "source": [
        "vendas.columns = ['Store','min','mean','max']\n",
        "vendas.head()"
      ],
      "metadata": {
        "colab": {
          "base_uri": "https://localhost:8080/",
          "height": 206
        },
        "id": "DIOcYr30DmDk",
        "outputId": "e9e1e1a5-335d-4444-f575-4b1a4797e22e"
      },
      "execution_count": null,
      "outputs": [
        {
          "output_type": "execute_result",
          "data": {
            "text/plain": [
              "   Store        min       mean        max\n",
              "0      1 1316899.00 1555264.00 2387950.00\n",
              "1      2 1650394.00 1925751.00 3436008.00\n",
              "2      3  339597.00  402704.00  605990.00\n",
              "3      4 1762539.00 2094713.00 3676389.00\n",
              "4      5  260637.00  318012.00  507900.00"
            ],
            "text/html": [
              "\n",
              "  <div id=\"df-46f6a1ae-d51d-41b4-9e5b-06ea6debccc0\">\n",
              "    <div class=\"colab-df-container\">\n",
              "      <div>\n",
              "<style scoped>\n",
              "    .dataframe tbody tr th:only-of-type {\n",
              "        vertical-align: middle;\n",
              "    }\n",
              "\n",
              "    .dataframe tbody tr th {\n",
              "        vertical-align: top;\n",
              "    }\n",
              "\n",
              "    .dataframe thead th {\n",
              "        text-align: right;\n",
              "    }\n",
              "</style>\n",
              "<table border=\"1\" class=\"dataframe\">\n",
              "  <thead>\n",
              "    <tr style=\"text-align: right;\">\n",
              "      <th></th>\n",
              "      <th>Store</th>\n",
              "      <th>min</th>\n",
              "      <th>mean</th>\n",
              "      <th>max</th>\n",
              "    </tr>\n",
              "  </thead>\n",
              "  <tbody>\n",
              "    <tr>\n",
              "      <th>0</th>\n",
              "      <td>1</td>\n",
              "      <td>1316899.00</td>\n",
              "      <td>1555264.00</td>\n",
              "      <td>2387950.00</td>\n",
              "    </tr>\n",
              "    <tr>\n",
              "      <th>1</th>\n",
              "      <td>2</td>\n",
              "      <td>1650394.00</td>\n",
              "      <td>1925751.00</td>\n",
              "      <td>3436008.00</td>\n",
              "    </tr>\n",
              "    <tr>\n",
              "      <th>2</th>\n",
              "      <td>3</td>\n",
              "      <td>339597.00</td>\n",
              "      <td>402704.00</td>\n",
              "      <td>605990.00</td>\n",
              "    </tr>\n",
              "    <tr>\n",
              "      <th>3</th>\n",
              "      <td>4</td>\n",
              "      <td>1762539.00</td>\n",
              "      <td>2094713.00</td>\n",
              "      <td>3676389.00</td>\n",
              "    </tr>\n",
              "    <tr>\n",
              "      <th>4</th>\n",
              "      <td>5</td>\n",
              "      <td>260637.00</td>\n",
              "      <td>318012.00</td>\n",
              "      <td>507900.00</td>\n",
              "    </tr>\n",
              "  </tbody>\n",
              "</table>\n",
              "</div>\n",
              "      <button class=\"colab-df-convert\" onclick=\"convertToInteractive('df-46f6a1ae-d51d-41b4-9e5b-06ea6debccc0')\"\n",
              "              title=\"Convert this dataframe to an interactive table.\"\n",
              "              style=\"display:none;\">\n",
              "        \n",
              "  <svg xmlns=\"http://www.w3.org/2000/svg\" height=\"24px\"viewBox=\"0 0 24 24\"\n",
              "       width=\"24px\">\n",
              "    <path d=\"M0 0h24v24H0V0z\" fill=\"none\"/>\n",
              "    <path d=\"M18.56 5.44l.94 2.06.94-2.06 2.06-.94-2.06-.94-.94-2.06-.94 2.06-2.06.94zm-11 1L8.5 8.5l.94-2.06 2.06-.94-2.06-.94L8.5 2.5l-.94 2.06-2.06.94zm10 10l.94 2.06.94-2.06 2.06-.94-2.06-.94-.94-2.06-.94 2.06-2.06.94z\"/><path d=\"M17.41 7.96l-1.37-1.37c-.4-.4-.92-.59-1.43-.59-.52 0-1.04.2-1.43.59L10.3 9.45l-7.72 7.72c-.78.78-.78 2.05 0 2.83L4 21.41c.39.39.9.59 1.41.59.51 0 1.02-.2 1.41-.59l7.78-7.78 2.81-2.81c.8-.78.8-2.07 0-2.86zM5.41 20L4 18.59l7.72-7.72 1.47 1.35L5.41 20z\"/>\n",
              "  </svg>\n",
              "      </button>\n",
              "      \n",
              "  <style>\n",
              "    .colab-df-container {\n",
              "      display:flex;\n",
              "      flex-wrap:wrap;\n",
              "      gap: 12px;\n",
              "    }\n",
              "\n",
              "    .colab-df-convert {\n",
              "      background-color: #E8F0FE;\n",
              "      border: none;\n",
              "      border-radius: 50%;\n",
              "      cursor: pointer;\n",
              "      display: none;\n",
              "      fill: #1967D2;\n",
              "      height: 32px;\n",
              "      padding: 0 0 0 0;\n",
              "      width: 32px;\n",
              "    }\n",
              "\n",
              "    .colab-df-convert:hover {\n",
              "      background-color: #E2EBFA;\n",
              "      box-shadow: 0px 1px 2px rgba(60, 64, 67, 0.3), 0px 1px 3px 1px rgba(60, 64, 67, 0.15);\n",
              "      fill: #174EA6;\n",
              "    }\n",
              "\n",
              "    [theme=dark] .colab-df-convert {\n",
              "      background-color: #3B4455;\n",
              "      fill: #D2E3FC;\n",
              "    }\n",
              "\n",
              "    [theme=dark] .colab-df-convert:hover {\n",
              "      background-color: #434B5C;\n",
              "      box-shadow: 0px 1px 3px 1px rgba(0, 0, 0, 0.15);\n",
              "      filter: drop-shadow(0px 1px 2px rgba(0, 0, 0, 0.3));\n",
              "      fill: #FFFFFF;\n",
              "    }\n",
              "  </style>\n",
              "\n",
              "      <script>\n",
              "        const buttonEl =\n",
              "          document.querySelector('#df-46f6a1ae-d51d-41b4-9e5b-06ea6debccc0 button.colab-df-convert');\n",
              "        buttonEl.style.display =\n",
              "          google.colab.kernel.accessAllowed ? 'block' : 'none';\n",
              "\n",
              "        async function convertToInteractive(key) {\n",
              "          const element = document.querySelector('#df-46f6a1ae-d51d-41b4-9e5b-06ea6debccc0');\n",
              "          const dataTable =\n",
              "            await google.colab.kernel.invokeFunction('convertToInteractive',\n",
              "                                                     [key], {});\n",
              "          if (!dataTable) return;\n",
              "\n",
              "          const docLinkHtml = 'Like what you see? Visit the ' +\n",
              "            '<a target=\"_blank\" href=https://colab.research.google.com/notebooks/data_table.ipynb>data table notebook</a>'\n",
              "            + ' to learn more about interactive tables.';\n",
              "          element.innerHTML = '';\n",
              "          dataTable['output_type'] = 'display_data';\n",
              "          await google.colab.output.renderOutput(dataTable, element);\n",
              "          const docLink = document.createElement('div');\n",
              "          docLink.innerHTML = docLinkHtml;\n",
              "          element.appendChild(docLink);\n",
              "        }\n",
              "      </script>\n",
              "    </div>\n",
              "  </div>\n",
              "  "
            ]
          },
          "metadata": {},
          "execution_count": 17
        }
      ]
    },
    {
      "cell_type": "markdown",
      "source": [
        "##4.3 Gráfico vendas máximas, mínimas e médias"
      ],
      "metadata": {
        "id": "Pk1dh1_09mbL"
      }
    },
    {
      "cell_type": "markdown",
      "source": [],
      "metadata": {
        "id": "BJkP46vmuPF5"
      }
    },
    {
      "cell_type": "code",
      "source": [
        "fig, ax = plt.subplots(figsize = (20,10))    \n",
        "fig = sns.barplot(x = \"Store\", y = 'mean', data = vendas, \n",
        "                  estimator = sum, color=\"#2EFE9A\", ci = None, ax=ax)\n",
        "plt.xlabel(\"Lojas\",fontsize=15)\n",
        "plt.ylabel(\"Vendas semanais (U$),\",fontsize=15)\n",
        "plt.title(\"Vendas máximas, mínimas e médias por loja\",fontsize=15)\n",
        "vendas['max'].plot(kind='line', color='blue', ms=10)\n",
        "vendas['min'].plot(kind='line', color='red', ms=10)\n",
        "vendas['mean'].plot(kind='line', color='green', ms=10)\n",
        "plt.legend(labels=[\"Máxima\",\"Mínima\",\"Média\"],fontsize=15)\n",
        "plt.show()"
      ],
      "metadata": {
        "colab": {
          "base_uri": "https://localhost:8080/",
          "height": 629
        },
        "id": "hpIpYhmIuUC8",
        "outputId": "42ac6183-5d0d-4882-dd45-4e990149534c"
      },
      "execution_count": null,
      "outputs": [
        {
          "output_type": "display_data",
          "data": {
            "text/plain": [
              "<Figure size 1440x720 with 1 Axes>"
            ],
            "image/png": "[encoded data removed]"
          },
          "metadata": {
            "needs_background": "light"
          }
        }
      ]
    },
    {
      "cell_type": "markdown",
      "source": [
        "## 4.4 Comparativo do preço do combustível por região"
      ],
      "metadata": {
        "id": "CQWm1dlZ90Kr"
      }
    },
    {
      "cell_type": "markdown",
      "source": [
        "### 4.4.1 preço médio do combustivel:"
      ],
      "metadata": {
        "id": "zgrZKCvL-9Ca"
      }
    },
    {
      "cell_type": "code",
      "source": [
        "\n",
        "df['Fuel_Price'].mean()"
      ],
      "metadata": {
        "colab": {
          "base_uri": "https://localhost:8080/"
        },
        "id": "ZQM5Mnm0-kB0",
        "outputId": "0581a8fa-2882-4678-cf8b-23f28a9175aa"
      },
      "execution_count": null,
      "outputs": [
        {
          "output_type": "execute_result",
          "data": {
            "text/plain": [
              "3.358606837606838"
            ]
          },
          "metadata": {},
          "execution_count": 14
        }
      ]
    },
    {
      "cell_type": "markdown",
      "source": [
        "### 4.4.2 Menores preços do combustível por loja"
      ],
      "metadata": {
        "id": "q0AVCZQZ_NKq"
      }
    },
    {
      "cell_type": "code",
      "source": [
        "# Lojas com menores preços de combustível\n",
        "fuel_price = df.groupby(['Store'])['Fuel_Price'].mean().sort_values()\n",
        "fuel_price.head()"
      ],
      "metadata": {
        "colab": {
          "base_uri": "https://localhost:8080/"
        },
        "id": "qqjZ_Ta6-wxs",
        "outputId": "c6f3277a-5dfc-400a-ba79-8980e3414cf8"
      },
      "execution_count": null,
      "outputs": [
        {
          "output_type": "execute_result",
          "data": {
            "text/plain": [
              "Store\n",
              "36   3.20\n",
              "34   3.22\n",
              "4    3.22\n",
              "1    3.22\n",
              "21   3.22\n",
              "Name: Fuel_Price, dtype: float64"
            ]
          },
          "metadata": {},
          "execution_count": 15
        }
      ]
    },
    {
      "cell_type": "markdown",
      "source": [
        "### 4.4.3 Representação gráfica desse quantitativo"
      ],
      "metadata": {
        "id": "ySNVw_R6ALwR"
      }
    },
    {
      "cell_type": "code",
      "source": [
        "plt.figure(figsize=(30, 10))\n",
        "sns.barplot(x=\"Store\", \n",
        "            y=\"Fuel_Price\", \n",
        "            data=df,\n",
        "            color=\"#04B45F\",\n",
        "             )\n",
        "plt.title(\"Preço do Combustível próximo à loja\",fontsize=20)\n",
        "plt.ylabel(\"Preço do Combustível\", fontsize= 15)\n",
        "plt.xlabel(\"Lojas\",fontsize=15)\n",
        "plt.tick_params(labelsize=12)\n",
        "plt.show()"
      ],
      "metadata": {
        "colab": {
          "base_uri": "https://localhost:8080/",
          "height": 552
        },
        "id": "FLRaRpwsASIR",
        "outputId": "6679185a-edd4-4f42-924e-279edc7d6be7"
      },
      "execution_count": null,
      "outputs": [
        {
          "output_type": "display_data",
          "data": {
            "text/plain": [
              "<Figure size 2160x720 with 1 Axes>"
            ],
            "image/png": "[encoded data removed]"
          },
          "metadata": {
            "needs_background": "light"
          }
        }
      ]
    },
    {
      "cell_type": "markdown",
      "source": [],
      "metadata": {
        "id": "2QIpv9Dx-Imi"
      }
    },
    {
      "cell_type": "markdown",
      "source": [
        "## 4.5 Comparativo de taxa de desemprego (se essa taxa for elevada então estimasse o baixo consumo na região)."
      ],
      "metadata": {
        "id": "eFCx9f_n1Zhy"
      }
    },
    {
      "cell_type": "markdown",
      "source": [
        "### 4.5.1 Dez primeiras Lojas com menores taxas de desemprego"
      ],
      "metadata": {
        "id": "jwwruTR73WyE"
      }
    },
    {
      "cell_type": "code",
      "source": [
        "\n",
        "desemprego = df.groupby('Store')['Unemployment'].mean().sort_values()\n",
        "desemprego.head(10)"
      ],
      "metadata": {
        "colab": {
          "base_uri": "https://localhost:8080/"
        },
        "id": "wNMO_YBv1wSM",
        "outputId": "126f74ed-0371-43c5-c1f7-b7c6a2c903a5"
      },
      "execution_count": null,
      "outputs": [
        {
          "output_type": "execute_result",
          "data": {
            "text/plain": [
              "Store\n",
              "23   4.80\n",
              "40   4.80\n",
              "4    5.96\n",
              "8    6.09\n",
              "9    6.10\n",
              "5    6.30\n",
              "16   6.48\n",
              "17   6.55\n",
              "6    6.61\n",
              "44   6.74\n",
              "Name: Unemployment, dtype: float64"
            ]
          },
          "metadata": {},
          "execution_count": 17
        }
      ]
    },
    {
      "cell_type": "markdown",
      "source": [],
      "metadata": {
        "id": "CjfU4efR3l_s"
      }
    },
    {
      "cell_type": "markdown",
      "source": [
        "### 4.5.2 Gráfico com a Taxa de desemprego por região de cada Loja"
      ],
      "metadata": {
        "id": "ZxpkYMC24K5E"
      }
    },
    {
      "cell_type": "code",
      "source": [
        "\n",
        "plt.figure(figsize=(30, 10))\n",
        "sns.barplot(x=\"Store\", \n",
        "            y=\"Unemployment\", \n",
        "            data=df,\n",
        "            color=\"#01A9DB\")\n",
        "plt.title(\"Taxa de desemprego por região de cada Loja\",fontsize=20)\n",
        "plt.ylabel(\"Taxa de desemprego\", fontsize= 15)\n",
        "plt.xlabel(\"Lojas\",fontsize=15)\n",
        "plt.tick_params(labelsize=12)\n",
        "plt.show()"
      ],
      "metadata": {
        "colab": {
          "base_uri": "https://localhost:8080/",
          "height": 552
        },
        "id": "2yWu0t473ySf",
        "outputId": "67a7b49d-4df6-40c9-b98e-9a636742ee66"
      },
      "execution_count": null,
      "outputs": [
        {
          "output_type": "display_data",
          "data": {
            "text/plain": [
              "<Figure size 2160x720 with 1 Axes>"
            ],
            "image/png": "[encoded data removed]"
          },
          "metadata": {
            "needs_background": "light"
          }
        }
      ]
    },
    {
      "cell_type": "markdown",
      "source": [
        "##4.6 Temperatura por regiaõ de cada loja, pois se ela for baixa há tendência de neve que impacta diretamente nos fluxos de vendas.\n",
        "> 32º F = 0ºC = neve"
      ],
      "metadata": {
        "id": "4JeySVquI286"
      }
    },
    {
      "cell_type": "code",
      "source": [
        "\n",
        "temp = df.groupby('Store')['Temperature'].mean().sort_values()\n",
        "temp.head(5)"
      ],
      "metadata": {
        "colab": {
          "base_uri": "https://localhost:8080/"
        },
        "id": "D7ZOsgmrOgpy",
        "outputId": "9eb71f47-400c-40be-88b1-7767cddbffc4"
      },
      "execution_count": null,
      "outputs": [
        {
          "output_type": "execute_result",
          "data": {
            "text/plain": [
              "Store\n",
              "7    39.72\n",
              "26   43.66\n",
              "16   45.03\n",
              "17   46.39\n",
              "40   47.67\n",
              "Name: Temperature, dtype: float64"
            ]
          },
          "metadata": {},
          "execution_count": 19
        }
      ]
    },
    {
      "cell_type": "markdown",
      "source": [
        ">Essas lojas não são uma opção por conta da temperatura."
      ],
      "metadata": {
        "id": "B078dSoPPAMK"
      }
    },
    {
      "cell_type": "markdown",
      "source": [
        "### 4.6.1 Gráfico para visualização das temperaturas por região de cada loja"
      ],
      "metadata": {
        "id": "GWkJi2IcPTqq"
      }
    },
    {
      "cell_type": "code",
      "source": [
        "plt.figure(figsize=(30, 10))\n",
        "sns.barplot(x=\"Store\", \n",
        "            y=\"Temperature\", \n",
        "            data=df,\n",
        "            color=\"#2E64FE\")\n",
        "plt.title(\"Temperatura por região de cada Loja\",fontsize=20)\n",
        "plt.ylabel(\"Temperatura °F\", fontsize= 15)\n",
        "plt.xlabel(\"Lojas\",fontsize=15)\n",
        "plt.tick_params(labelsize=12)\n",
        "plt.axhline(y=32,color=\"red\")\n",
        "plt.show()"
      ],
      "metadata": {
        "colab": {
          "base_uri": "https://localhost:8080/",
          "height": 552
        },
        "id": "ft5WGsEUPkCa",
        "outputId": "2988b166-3273-4c2d-80b9-4f4f414185de"
      },
      "execution_count": null,
      "outputs": [
        {
          "output_type": "display_data",
          "data": {
            "text/plain": [
              "<Figure size 2160x720 with 1 Axes>"
            ],
            "image/png": "[encoded data removed]"
          },
          "metadata": {
            "needs_background": "light"
          }
        }
      ]
    },
    {
      "cell_type": "markdown",
      "source": [
        "## 4.7 Comparativo de índice de Preços ao Consumidor (CPI) - quanto menor o CPI, mais fácil de os clientes comprarem mais na loja"
      ],
      "metadata": {
        "id": "kTy9d34DQZ96"
      }
    },
    {
      "cell_type": "markdown",
      "source": [],
      "metadata": {
        "id": "JBqqfZEhPKfJ"
      }
    },
    {
      "cell_type": "markdown",
      "source": [
        "### 4.7.1 Lojas com menores CPIs"
      ],
      "metadata": {
        "id": "6fBmxKBwQkDJ"
      }
    },
    {
      "cell_type": "code",
      "source": [
        "cpis = df.groupby('Store')['CPI'].mean().sort_values()\n",
        "cpis.head(20)"
      ],
      "metadata": {
        "colab": {
          "base_uri": "https://localhost:8080/"
        },
        "id": "FnaxHA7MQera",
        "outputId": "a8fbec37-fc95-4f22-d5f8-a1c9693797a3"
      },
      "execution_count": null,
      "outputs": [
        {
          "output_type": "execute_result",
          "data": {
            "text/plain": [
              "Store\n",
              "28   128.68\n",
              "42   128.68\n",
              "4    128.68\n",
              "38   128.68\n",
              "34   128.68\n",
              "33   128.68\n",
              "10   128.68\n",
              "44   128.68\n",
              "12   128.68\n",
              "13   128.68\n",
              "17   128.68\n",
              "24   135.09\n",
              "19   135.09\n",
              "18   135.09\n",
              "26   135.09\n",
              "23   135.09\n",
              "29   135.09\n",
              "40   135.09\n",
              "15   135.09\n",
              "27   139.01\n",
              "Name: CPI, dtype: float64"
            ]
          },
          "metadata": {},
          "execution_count": 24
        }
      ]
    },
    {
      "cell_type": "markdown",
      "source": [
        "### 4.7.2 Gráfico para visualizar o índice de Preço ao Consumidor por Loja"
      ],
      "metadata": {
        "id": "ATdeimfTQu0q"
      }
    },
    {
      "cell_type": "markdown",
      "source": [],
      "metadata": {
        "id": "Lu32cCDDQxyp"
      }
    },
    {
      "cell_type": "code",
      "source": [
        "plt.figure(figsize=(30, 10))\n",
        "sns.barplot(x=\"Store\", \n",
        "            y=\"CPI\", \n",
        "            data=df,\n",
        "            color=\"#007DC6\")\n",
        "plt.title(\"Índice de Preço ao Consumidor por Loja\",fontsize=20)\n",
        "plt.ylabel(\"IPC\", fontsize= 15)\n",
        "plt.xlabel(\"Lojas\",fontsize=15)\n",
        "plt.tick_params(labelsize=12)\n",
        "plt.show()"
      ],
      "metadata": {
        "colab": {
          "base_uri": "https://localhost:8080/",
          "height": 552
        },
        "id": "CYIS6jlEQylq",
        "outputId": "fe91d0f8-8f5a-4ec8-c856-0edbf785ef4f"
      },
      "execution_count": null,
      "outputs": [
        {
          "output_type": "display_data",
          "data": {
            "text/plain": [
              "<Figure size 2160x720 with 1 Axes>"
            ],
            "image/png": "[encoded data removed]"
          },
          "metadata": {
            "needs_background": "light"
          }
        }
      ]
    },
    {
      "cell_type": "markdown",
      "source": [
        "## 4.8 Vendas nos feriados"
      ],
      "metadata": {
        "id": "j38pczJLT83y"
      }
    },
    {
      "cell_type": "markdown",
      "source": [
        "### 4.8.1 Verificação dos feriados"
      ],
      "metadata": {
        "id": "J_wx48sHUzGO"
      }
    },
    {
      "cell_type": "code",
      "source": [
        "\n",
        "holiday_dates = df[df['Holiday_Flag'] == 1]\n",
        "holiday_dates.Date"
      ],
      "metadata": {
        "colab": {
          "base_uri": "https://localhost:8080/"
        },
        "id": "8SglmkpPUxGD",
        "outputId": "6da2110c-3292-43a4-9017-67e5a4b153cd"
      },
      "execution_count": null,
      "outputs": [
        {
          "output_type": "execute_result",
          "data": {
            "text/plain": [
              "1      2010-12-02\n",
              "31     2010-10-09\n",
              "42     2010-11-26\n",
              "47     2010-12-31\n",
              "53     2011-11-02\n",
              "          ...    \n",
              "6375   2011-09-09\n",
              "6386   2011-11-25\n",
              "6391   2011-12-30\n",
              "6397   2012-10-02\n",
              "6427   2012-07-09\n",
              "Name: Date, Length: 450, dtype: datetime64[ns]"
            ]
          },
          "metadata": {},
          "execution_count": 49
        }
      ]
    },
    {
      "cell_type": "code",
      "source": [
        "holiday = df.groupby(['Store','Holiday_Flag']).agg({'Weekly_Sales':['mean','max','sum']})\n",
        "holiday = holiday.reset_index()\n",
        "holiday"
      ],
      "metadata": {
        "colab": {
          "base_uri": "https://localhost:8080/",
          "height": 455
        },
        "id": "HIyIRQCsU7Ix",
        "outputId": "6436aa91-ce20-4af7-fcd8-c694f2fb777d"
      },
      "execution_count": null,
      "outputs": [
        {
          "output_type": "execute_result",
          "data": {
            "text/plain": [
              "   Store Holiday_Flag Weekly_Sales                        \n",
              "                              mean        max          sum\n",
              "0      1            0   1546957.39 2387950.20 205745332.29\n",
              "1      1            1   1665747.66 2033320.66  16657476.56\n",
              "2      2            0   1914208.81 3436007.68 254589771.98\n",
              "3      2            1   2079266.90 2658725.29  20792669.00\n",
              "4      3            0    400064.85  605990.41  53208624.57\n",
              "..   ...          ...          ...        ...          ...\n",
              "85    43            1    635946.28  722120.04   6359462.78\n",
              "86    44            0    303253.62  376233.89  40332731.83\n",
              "87    44            1    296035.60  338737.33   2960356.01\n",
              "88    45            0    782198.53 1682862.03 104032404.29\n",
              "89    45            1    836293.71 1182500.16   8362937.13\n",
              "\n",
              "[90 rows x 5 columns]"
            ],
            "text/html": [
              "\n",
              "  <div id=\"df-92127276-3e83-4301-b6cb-800e989374bb\">\n",
              "    <div class=\"colab-df-container\">\n",
              "      <div>\n",
              "<style scoped>\n",
              "    .dataframe tbody tr th:only-of-type {\n",
              "        vertical-align: middle;\n",
              "    }\n",
              "\n",
              "    .dataframe tbody tr th {\n",
              "        vertical-align: top;\n",
              "    }\n",
              "\n",
              "    .dataframe thead tr th {\n",
              "        text-align: left;\n",
              "    }\n",
              "</style>\n",
              "<table border=\"1\" class=\"dataframe\">\n",
              "  <thead>\n",
              "    <tr>\n",
              "      <th></th>\n",
              "      <th>Store</th>\n",
              "      <th>Holiday_Flag</th>\n",
              "      <th colspan=\"3\" halign=\"left\">Weekly_Sales</th>\n",
              "    </tr>\n",
              "    <tr>\n",
              "      <th></th>\n",
              "      <th></th>\n",
              "      <th></th>\n",
              "      <th>mean</th>\n",
              "      <th>max</th>\n",
              "      <th>sum</th>\n",
              "    </tr>\n",
              "  </thead>\n",
              "  <tbody>\n",
              "    <tr>\n",
              "      <th>0</th>\n",
              "      <td>1</td>\n",
              "      <td>0</td>\n",
              "      <td>1546957.39</td>\n",
              "      <td>2387950.20</td>\n",
              "      <td>205745332.29</td>\n",
              "    </tr>\n",
              "    <tr>\n",
              "      <th>1</th>\n",
              "      <td>1</td>\n",
              "      <td>1</td>\n",
              "      <td>1665747.66</td>\n",
              "      <td>2033320.66</td>\n",
              "      <td>16657476.56</td>\n",
              "    </tr>\n",
              "    <tr>\n",
              "      <th>2</th>\n",
              "      <td>2</td>\n",
              "      <td>0</td>\n",
              "      <td>1914208.81</td>\n",
              "      <td>3436007.68</td>\n",
              "      <td>254589771.98</td>\n",
              "    </tr>\n",
              "    <tr>\n",
              "      <th>3</th>\n",
              "      <td>2</td>\n",
              "      <td>1</td>\n",
              "      <td>2079266.90</td>\n",
              "      <td>2658725.29</td>\n",
              "      <td>20792669.00</td>\n",
              "    </tr>\n",
              "    <tr>\n",
              "      <th>4</th>\n",
              "      <td>3</td>\n",
              "      <td>0</td>\n",
              "      <td>400064.85</td>\n",
              "      <td>605990.41</td>\n",
              "      <td>53208624.57</td>\n",
              "    </tr>\n",
              "    <tr>\n",
              "      <th>...</th>\n",
              "      <td>...</td>\n",
              "      <td>...</td>\n",
              "      <td>...</td>\n",
              "      <td>...</td>\n",
              "      <td>...</td>\n",
              "    </tr>\n",
              "    <tr>\n",
              "      <th>85</th>\n",
              "      <td>43</td>\n",
              "      <td>1</td>\n",
              "      <td>635946.28</td>\n",
              "      <td>722120.04</td>\n",
              "      <td>6359462.78</td>\n",
              "    </tr>\n",
              "    <tr>\n",
              "      <th>86</th>\n",
              "      <td>44</td>\n",
              "      <td>0</td>\n",
              "      <td>303253.62</td>\n",
              "      <td>376233.89</td>\n",
              "      <td>40332731.83</td>\n",
              "    </tr>\n",
              "    <tr>\n",
              "      <th>87</th>\n",
              "      <td>44</td>\n",
              "      <td>1</td>\n",
              "      <td>296035.60</td>\n",
              "      <td>338737.33</td>\n",
              "      <td>2960356.01</td>\n",
              "    </tr>\n",
              "    <tr>\n",
              "      <th>88</th>\n",
              "      <td>45</td>\n",
              "      <td>0</td>\n",
              "      <td>782198.53</td>\n",
              "      <td>1682862.03</td>\n",
              "      <td>104032404.29</td>\n",
              "    </tr>\n",
              "    <tr>\n",
              "      <th>89</th>\n",
              "      <td>45</td>\n",
              "      <td>1</td>\n",
              "      <td>836293.71</td>\n",
              "      <td>1182500.16</td>\n",
              "      <td>8362937.13</td>\n",
              "    </tr>\n",
              "  </tbody>\n",
              "</table>\n",
              "<p>90 rows × 5 columns</p>\n",
              "</div>\n",
              "      <button class=\"colab-df-convert\" onclick=\"convertToInteractive('df-92127276-3e83-4301-b6cb-800e989374bb')\"\n",
              "              title=\"Convert this dataframe to an interactive table.\"\n",
              "              style=\"display:none;\">\n",
              "        \n",
              "  <svg xmlns=\"http://www.w3.org/2000/svg\" height=\"24px\"viewBox=\"0 0 24 24\"\n",
              "       width=\"24px\">\n",
              "    <path d=\"M0 0h24v24H0V0z\" fill=\"none\"/>\n",
              "    <path d=\"M18.56 5.44l.94 2.06.94-2.06 2.06-.94-2.06-.94-.94-2.06-.94 2.06-2.06.94zm-11 1L8.5 8.5l.94-2.06 2.06-.94-2.06-.94L8.5 2.5l-.94 2.06-2.06.94zm10 10l.94 2.06.94-2.06 2.06-.94-2.06-.94-.94-2.06-.94 2.06-2.06.94z\"/><path d=\"M17.41 7.96l-1.37-1.37c-.4-.4-.92-.59-1.43-.59-.52 0-1.04.2-1.43.59L10.3 9.45l-7.72 7.72c-.78.78-.78 2.05 0 2.83L4 21.41c.39.39.9.59 1.41.59.51 0 1.02-.2 1.41-.59l7.78-7.78 2.81-2.81c.8-.78.8-2.07 0-2.86zM5.41 20L4 18.59l7.72-7.72 1.47 1.35L5.41 20z\"/>\n",
              "  </svg>\n",
              "      </button>\n",
              "      \n",
              "  <style>\n",
              "    .colab-df-container {\n",
              "      display:flex;\n",
              "      flex-wrap:wrap;\n",
              "      gap: 12px;\n",
              "    }\n",
              "\n",
              "    .colab-df-convert {\n",
              "      background-color: #E8F0FE;\n",
              "      border: none;\n",
              "      border-radius: 50%;\n",
              "      cursor: pointer;\n",
              "      display: none;\n",
              "      fill: #1967D2;\n",
              "      height: 32px;\n",
              "      padding: 0 0 0 0;\n",
              "      width: 32px;\n",
              "    }\n",
              "\n",
              "    .colab-df-convert:hover {\n",
              "      background-color: #E2EBFA;\n",
              "      box-shadow: 0px 1px 2px rgba(60, 64, 67, 0.3), 0px 1px 3px 1px rgba(60, 64, 67, 0.15);\n",
              "      fill: #174EA6;\n",
              "    }\n",
              "\n",
              "    [theme=dark] .colab-df-convert {\n",
              "      background-color: #3B4455;\n",
              "      fill: #D2E3FC;\n",
              "    }\n",
              "\n",
              "    [theme=dark] .colab-df-convert:hover {\n",
              "      background-color: #434B5C;\n",
              "      box-shadow: 0px 1px 3px 1px rgba(0, 0, 0, 0.15);\n",
              "      filter: drop-shadow(0px 1px 2px rgba(0, 0, 0, 0.3));\n",
              "      fill: #FFFFFF;\n",
              "    }\n",
              "  </style>\n",
              "\n",
              "      <script>\n",
              "        const buttonEl =\n",
              "          document.querySelector('#df-92127276-3e83-4301-b6cb-800e989374bb button.colab-df-convert');\n",
              "        buttonEl.style.display =\n",
              "          google.colab.kernel.accessAllowed ? 'block' : 'none';\n",
              "\n",
              "        async function convertToInteractive(key) {\n",
              "          const element = document.querySelector('#df-92127276-3e83-4301-b6cb-800e989374bb');\n",
              "          const dataTable =\n",
              "            await google.colab.kernel.invokeFunction('convertToInteractive',\n",
              "                                                     [key], {});\n",
              "          if (!dataTable) return;\n",
              "\n",
              "          const docLinkHtml = 'Like what you see? Visit the ' +\n",
              "            '<a target=\"_blank\" href=https://colab.research.google.com/notebooks/data_table.ipynb>data table notebook</a>'\n",
              "            + ' to learn more about interactive tables.';\n",
              "          element.innerHTML = '';\n",
              "          dataTable['output_type'] = 'display_data';\n",
              "          await google.colab.output.renderOutput(dataTable, element);\n",
              "          const docLink = document.createElement('div');\n",
              "          docLink.innerHTML = docLinkHtml;\n",
              "          element.appendChild(docLink);\n",
              "        }\n",
              "      </script>\n",
              "    </div>\n",
              "  </div>\n",
              "  "
            ]
          },
          "metadata": {},
          "execution_count": 61
        }
      ]
    },
    {
      "cell_type": "markdown",
      "source": [
        "### 4.8.2 Grafico de comparação das vendas máximas e minimas com e sem feriados"
      ],
      "metadata": {
        "id": "qOD4VBkhVLj3"
      }
    },
    {
      "cell_type": "code",
      "source": [
        "plt.figure(figsize=(20,10))\n",
        "sns.barplot(x = 'Store',y = ('Weekly_Sales',  'mean'),hue= 'Holiday_Flag',data=holiday, palette=\"Set1\" )\n",
        "plt.xlabel(\"Loja\",fontsize=15)\n",
        "plt.ylabel(\"Média de vendas semanais (U$)\",fontsize=15)\n",
        "plt.title(\"Vendas máximas, mínimas e médias por loja (1 = feriado e 0 = sem feriado)\",fontsize=20)\n",
        "plt.show()"
      ],
      "metadata": {
        "colab": {
          "base_uri": "https://localhost:8080/",
          "height": 633
        },
        "id": "kxUmDjYRVsz9",
        "outputId": "6b4526a2-a4d0-4cd7-bde3-1f7835d6e454"
      },
      "execution_count": null,
      "outputs": [
        {
          "output_type": "display_data",
          "data": {
            "text/plain": [
              "<Figure size 1440x720 with 1 Axes>"
            ],
            "image/png": "[encoded data removed]"
          },
          "metadata": {
            "needs_background": "light"
          }
        }
      ]
    },
    {
      "cell_type": "markdown",
      "source": [
        "##4.9 Resultado \n",
        ">Após avaliar quais as 5 lojas que tiveram a maior média de vendas do período, foi possível ver que uma delas tinha índices melhores de taxa de desemprego, Temperatura (ficando menor parte do tempo com neve), preço de gasolina  entre os mais baixos e CPI melhor.\n",
        "Com base nos dados obtidos, a loja ideal  para receber a expansão e a de *n° 20*, pois por ter a maior média de vendas semanais, ultrapassando o valor médo de vendas semanais global em todas as semanas e também a maior venda acumulada. \n"
      ],
      "metadata": {
        "id": "5BYT1-wKWrEC"
      }
    }
  ]
}